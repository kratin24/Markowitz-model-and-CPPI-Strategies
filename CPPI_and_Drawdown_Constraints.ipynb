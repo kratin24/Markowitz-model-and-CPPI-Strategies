{
  "nbformat": 4,
  "nbformat_minor": 0,
  "metadata": {
    "colab": {
      "provenance": []
    },
    "kernelspec": {
      "name": "python3",
      "display_name": "Python 3"
    },
    "language_info": {
      "name": "python"
    }
  },
  "cells": [
    {
      "cell_type": "code",
      "metadata": {
        "id": "GxG4f-IbEEdJ"
      },
      "source": [
        "import pandas as pd\n",
        "import numpy as np\n",
        "import matplotlib.pyplot as plt\n"
      ],
      "execution_count": null,
      "outputs": []
    },
    {
      "cell_type": "code",
      "metadata": {
        "id": "SEX1PrnbEOsG"
      },
      "source": [
        "n_returns=pd.read_csv(\"ind30_m_vw_rets.csv\",header=0,index_col=0,parse_dates=True)\n",
        "n_returns.index=pd.to_datetime(n_returns.index,format='%Y%m')\n",
        "n_returns.index=n_returns.index.to_period('M')\n",
        "n_returns.columns=n_returns.columns.str.strip()\n",
        "n_returns=n_returns/100\n",
        "\n",
        "n_firms=pd.read_csv(\"ind30_m_nfirms.csv\",header=0,index_col=0,parse_dates=True)\n",
        "n_firms.index=pd.to_datetime(n_firms.index,format='%Y%m')\n",
        "n_firms.index=n_firms.index.to_period('M')\n",
        "n_firms.columns=n_firms.columns.str.strip()\n",
        "\n",
        "# n_firms represents firms in that industry during that time\n",
        "\n",
        "n_size=pd.read_csv(\"ind30_m_size.csv\",header=0,index_col=0,parse_dates=True)\n",
        "n_size.index=pd.to_datetime(n_size.index,format='%Y%m')\n",
        "n_size.index=n_size.index.to_period('M')\n",
        "n_size.columns=n_size.columns.str.strip()\n",
        "\n",
        "# n_size represents average market capitlization during that time"
      ],
      "execution_count": null,
      "outputs": []
    },
    {
      "cell_type": "code",
      "metadata": {
        "colab": {
          "base_uri": "https://localhost:8080/",
          "height": 299
        },
        "id": "bzh-_h0nN1Pm",
        "outputId": "1a1630a4-932c-4919-99e2-987699cfca59"
      },
      "source": [
        "n_returns.head()"
      ],
      "execution_count": null,
      "outputs": [
        {
          "output_type": "execute_result",
          "data": {
            "text/html": [
              "<div>\n",
              "<style scoped>\n",
              "    .dataframe tbody tr th:only-of-type {\n",
              "        vertical-align: middle;\n",
              "    }\n",
              "\n",
              "    .dataframe tbody tr th {\n",
              "        vertical-align: top;\n",
              "    }\n",
              "\n",
              "    .dataframe thead th {\n",
              "        text-align: right;\n",
              "    }\n",
              "</style>\n",
              "<table border=\"1\" class=\"dataframe\">\n",
              "  <thead>\n",
              "    <tr style=\"text-align: right;\">\n",
              "      <th></th>\n",
              "      <th>Food</th>\n",
              "      <th>Beer</th>\n",
              "      <th>Smoke</th>\n",
              "      <th>Games</th>\n",
              "      <th>Books</th>\n",
              "      <th>Hshld</th>\n",
              "      <th>Clths</th>\n",
              "      <th>Hlth</th>\n",
              "      <th>Chems</th>\n",
              "      <th>Txtls</th>\n",
              "      <th>Cnstr</th>\n",
              "      <th>Steel</th>\n",
              "      <th>FabPr</th>\n",
              "      <th>ElcEq</th>\n",
              "      <th>Autos</th>\n",
              "      <th>Carry</th>\n",
              "      <th>Mines</th>\n",
              "      <th>Coal</th>\n",
              "      <th>Oil</th>\n",
              "      <th>Util</th>\n",
              "      <th>Telcm</th>\n",
              "      <th>Servs</th>\n",
              "      <th>BusEq</th>\n",
              "      <th>Paper</th>\n",
              "      <th>Trans</th>\n",
              "      <th>Whlsl</th>\n",
              "      <th>Rtail</th>\n",
              "      <th>Meals</th>\n",
              "      <th>Fin</th>\n",
              "      <th>Other</th>\n",
              "    </tr>\n",
              "  </thead>\n",
              "  <tbody>\n",
              "    <tr>\n",
              "      <th>1926-07</th>\n",
              "      <td>0.0056</td>\n",
              "      <td>-0.0519</td>\n",
              "      <td>0.0129</td>\n",
              "      <td>0.0293</td>\n",
              "      <td>0.1097</td>\n",
              "      <td>-0.0048</td>\n",
              "      <td>0.0808</td>\n",
              "      <td>0.0177</td>\n",
              "      <td>0.0814</td>\n",
              "      <td>0.0039</td>\n",
              "      <td>0.0207</td>\n",
              "      <td>0.0407</td>\n",
              "      <td>0.0543</td>\n",
              "      <td>0.0318</td>\n",
              "      <td>0.1639</td>\n",
              "      <td>0.0102</td>\n",
              "      <td>0.0564</td>\n",
              "      <td>0.0154</td>\n",
              "      <td>-0.0140</td>\n",
              "      <td>0.0704</td>\n",
              "      <td>0.0083</td>\n",
              "      <td>0.0922</td>\n",
              "      <td>0.0206</td>\n",
              "      <td>0.0770</td>\n",
              "      <td>0.0193</td>\n",
              "      <td>-0.2379</td>\n",
              "      <td>0.0007</td>\n",
              "      <td>0.0187</td>\n",
              "      <td>0.0037</td>\n",
              "      <td>0.0520</td>\n",
              "    </tr>\n",
              "    <tr>\n",
              "      <th>1926-08</th>\n",
              "      <td>0.0259</td>\n",
              "      <td>0.2703</td>\n",
              "      <td>0.0650</td>\n",
              "      <td>0.0055</td>\n",
              "      <td>0.1001</td>\n",
              "      <td>-0.0358</td>\n",
              "      <td>-0.0251</td>\n",
              "      <td>0.0425</td>\n",
              "      <td>0.0550</td>\n",
              "      <td>0.0814</td>\n",
              "      <td>0.0472</td>\n",
              "      <td>0.0217</td>\n",
              "      <td>0.0206</td>\n",
              "      <td>0.0210</td>\n",
              "      <td>0.0423</td>\n",
              "      <td>0.0166</td>\n",
              "      <td>0.0055</td>\n",
              "      <td>0.0085</td>\n",
              "      <td>0.0369</td>\n",
              "      <td>-0.0169</td>\n",
              "      <td>0.0217</td>\n",
              "      <td>0.0202</td>\n",
              "      <td>0.0439</td>\n",
              "      <td>-0.0238</td>\n",
              "      <td>0.0488</td>\n",
              "      <td>0.0539</td>\n",
              "      <td>-0.0075</td>\n",
              "      <td>-0.0013</td>\n",
              "      <td>0.0446</td>\n",
              "      <td>0.0676</td>\n",
              "    </tr>\n",
              "    <tr>\n",
              "      <th>1926-09</th>\n",
              "      <td>0.0116</td>\n",
              "      <td>0.0402</td>\n",
              "      <td>0.0126</td>\n",
              "      <td>0.0658</td>\n",
              "      <td>-0.0099</td>\n",
              "      <td>0.0073</td>\n",
              "      <td>-0.0051</td>\n",
              "      <td>0.0069</td>\n",
              "      <td>0.0533</td>\n",
              "      <td>0.0231</td>\n",
              "      <td>-0.0050</td>\n",
              "      <td>0.0015</td>\n",
              "      <td>0.0036</td>\n",
              "      <td>-0.0056</td>\n",
              "      <td>0.0483</td>\n",
              "      <td>0.0273</td>\n",
              "      <td>0.0174</td>\n",
              "      <td>0.0030</td>\n",
              "      <td>-0.0369</td>\n",
              "      <td>0.0204</td>\n",
              "      <td>0.0241</td>\n",
              "      <td>0.0225</td>\n",
              "      <td>0.0019</td>\n",
              "      <td>-0.0554</td>\n",
              "      <td>0.0005</td>\n",
              "      <td>-0.0787</td>\n",
              "      <td>0.0025</td>\n",
              "      <td>-0.0056</td>\n",
              "      <td>-0.0123</td>\n",
              "      <td>-0.0386</td>\n",
              "    </tr>\n",
              "    <tr>\n",
              "      <th>1926-10</th>\n",
              "      <td>-0.0306</td>\n",
              "      <td>-0.0331</td>\n",
              "      <td>0.0106</td>\n",
              "      <td>-0.0476</td>\n",
              "      <td>0.0947</td>\n",
              "      <td>-0.0468</td>\n",
              "      <td>0.0012</td>\n",
              "      <td>-0.0057</td>\n",
              "      <td>-0.0476</td>\n",
              "      <td>0.0100</td>\n",
              "      <td>-0.0455</td>\n",
              "      <td>-0.0385</td>\n",
              "      <td>0.0111</td>\n",
              "      <td>-0.0573</td>\n",
              "      <td>-0.0793</td>\n",
              "      <td>-0.0556</td>\n",
              "      <td>-0.0320</td>\n",
              "      <td>0.0223</td>\n",
              "      <td>-0.0104</td>\n",
              "      <td>-0.0263</td>\n",
              "      <td>-0.0011</td>\n",
              "      <td>-0.0200</td>\n",
              "      <td>-0.0109</td>\n",
              "      <td>-0.0508</td>\n",
              "      <td>-0.0264</td>\n",
              "      <td>-0.1538</td>\n",
              "      <td>-0.0220</td>\n",
              "      <td>-0.0411</td>\n",
              "      <td>-0.0516</td>\n",
              "      <td>-0.0849</td>\n",
              "    </tr>\n",
              "    <tr>\n",
              "      <th>1926-11</th>\n",
              "      <td>0.0635</td>\n",
              "      <td>0.0729</td>\n",
              "      <td>0.0455</td>\n",
              "      <td>0.0166</td>\n",
              "      <td>-0.0580</td>\n",
              "      <td>-0.0054</td>\n",
              "      <td>0.0187</td>\n",
              "      <td>0.0542</td>\n",
              "      <td>0.0520</td>\n",
              "      <td>0.0311</td>\n",
              "      <td>0.0220</td>\n",
              "      <td>0.0386</td>\n",
              "      <td>0.0318</td>\n",
              "      <td>0.0508</td>\n",
              "      <td>-0.0066</td>\n",
              "      <td>0.0787</td>\n",
              "      <td>0.0846</td>\n",
              "      <td>-0.0048</td>\n",
              "      <td>0.0006</td>\n",
              "      <td>0.0371</td>\n",
              "      <td>0.0163</td>\n",
              "      <td>0.0377</td>\n",
              "      <td>0.0364</td>\n",
              "      <td>0.0384</td>\n",
              "      <td>0.0160</td>\n",
              "      <td>0.0467</td>\n",
              "      <td>0.0652</td>\n",
              "      <td>0.0433</td>\n",
              "      <td>0.0224</td>\n",
              "      <td>0.0400</td>\n",
              "    </tr>\n",
              "  </tbody>\n",
              "</table>\n",
              "</div>"
            ],
            "text/plain": [
              "           Food    Beer   Smoke   Games  ...   Rtail   Meals     Fin   Other\n",
              "1926-07  0.0056 -0.0519  0.0129  0.0293  ...  0.0007  0.0187  0.0037  0.0520\n",
              "1926-08  0.0259  0.2703  0.0650  0.0055  ... -0.0075 -0.0013  0.0446  0.0676\n",
              "1926-09  0.0116  0.0402  0.0126  0.0658  ...  0.0025 -0.0056 -0.0123 -0.0386\n",
              "1926-10 -0.0306 -0.0331  0.0106 -0.0476  ... -0.0220 -0.0411 -0.0516 -0.0849\n",
              "1926-11  0.0635  0.0729  0.0455  0.0166  ...  0.0652  0.0433  0.0224  0.0400\n",
              "\n",
              "[5 rows x 30 columns]"
            ]
          },
          "metadata": {
            "tags": []
          },
          "execution_count": 3
        }
      ]
    },
    {
      "cell_type": "code",
      "metadata": {
        "colab": {
          "base_uri": "https://localhost:8080/",
          "height": 299
        },
        "id": "Az0wh8rCOO52",
        "outputId": "9112c4f8-927c-4abe-e49b-404501fc358d"
      },
      "source": [
        "n_firms.head()"
      ],
      "execution_count": null,
      "outputs": [
        {
          "output_type": "execute_result",
          "data": {
            "text/html": [
              "<div>\n",
              "<style scoped>\n",
              "    .dataframe tbody tr th:only-of-type {\n",
              "        vertical-align: middle;\n",
              "    }\n",
              "\n",
              "    .dataframe tbody tr th {\n",
              "        vertical-align: top;\n",
              "    }\n",
              "\n",
              "    .dataframe thead th {\n",
              "        text-align: right;\n",
              "    }\n",
              "</style>\n",
              "<table border=\"1\" class=\"dataframe\">\n",
              "  <thead>\n",
              "    <tr style=\"text-align: right;\">\n",
              "      <th></th>\n",
              "      <th>Food</th>\n",
              "      <th>Beer</th>\n",
              "      <th>Smoke</th>\n",
              "      <th>Games</th>\n",
              "      <th>Books</th>\n",
              "      <th>Hshld</th>\n",
              "      <th>Clths</th>\n",
              "      <th>Hlth</th>\n",
              "      <th>Chems</th>\n",
              "      <th>Txtls</th>\n",
              "      <th>Cnstr</th>\n",
              "      <th>Steel</th>\n",
              "      <th>FabPr</th>\n",
              "      <th>ElcEq</th>\n",
              "      <th>Autos</th>\n",
              "      <th>Carry</th>\n",
              "      <th>Mines</th>\n",
              "      <th>Coal</th>\n",
              "      <th>Oil</th>\n",
              "      <th>Util</th>\n",
              "      <th>Telcm</th>\n",
              "      <th>Servs</th>\n",
              "      <th>BusEq</th>\n",
              "      <th>Paper</th>\n",
              "      <th>Trans</th>\n",
              "      <th>Whlsl</th>\n",
              "      <th>Rtail</th>\n",
              "      <th>Meals</th>\n",
              "      <th>Fin</th>\n",
              "      <th>Other</th>\n",
              "    </tr>\n",
              "  </thead>\n",
              "  <tbody>\n",
              "    <tr>\n",
              "      <th>1926-07</th>\n",
              "      <td>43</td>\n",
              "      <td>3</td>\n",
              "      <td>16</td>\n",
              "      <td>7</td>\n",
              "      <td>2</td>\n",
              "      <td>8</td>\n",
              "      <td>12</td>\n",
              "      <td>7</td>\n",
              "      <td>17</td>\n",
              "      <td>13</td>\n",
              "      <td>14</td>\n",
              "      <td>45</td>\n",
              "      <td>19</td>\n",
              "      <td>11</td>\n",
              "      <td>39</td>\n",
              "      <td>13</td>\n",
              "      <td>14</td>\n",
              "      <td>8</td>\n",
              "      <td>43</td>\n",
              "      <td>21</td>\n",
              "      <td>5</td>\n",
              "      <td>3</td>\n",
              "      <td>7</td>\n",
              "      <td>6</td>\n",
              "      <td>74</td>\n",
              "      <td>2</td>\n",
              "      <td>33</td>\n",
              "      <td>6</td>\n",
              "      <td>12</td>\n",
              "      <td>4</td>\n",
              "    </tr>\n",
              "    <tr>\n",
              "      <th>1926-08</th>\n",
              "      <td>43</td>\n",
              "      <td>3</td>\n",
              "      <td>16</td>\n",
              "      <td>7</td>\n",
              "      <td>2</td>\n",
              "      <td>8</td>\n",
              "      <td>12</td>\n",
              "      <td>7</td>\n",
              "      <td>17</td>\n",
              "      <td>13</td>\n",
              "      <td>14</td>\n",
              "      <td>45</td>\n",
              "      <td>19</td>\n",
              "      <td>11</td>\n",
              "      <td>39</td>\n",
              "      <td>13</td>\n",
              "      <td>14</td>\n",
              "      <td>8</td>\n",
              "      <td>43</td>\n",
              "      <td>21</td>\n",
              "      <td>5</td>\n",
              "      <td>3</td>\n",
              "      <td>7</td>\n",
              "      <td>6</td>\n",
              "      <td>74</td>\n",
              "      <td>2</td>\n",
              "      <td>33</td>\n",
              "      <td>6</td>\n",
              "      <td>12</td>\n",
              "      <td>4</td>\n",
              "    </tr>\n",
              "    <tr>\n",
              "      <th>1926-09</th>\n",
              "      <td>43</td>\n",
              "      <td>3</td>\n",
              "      <td>16</td>\n",
              "      <td>7</td>\n",
              "      <td>2</td>\n",
              "      <td>8</td>\n",
              "      <td>12</td>\n",
              "      <td>7</td>\n",
              "      <td>17</td>\n",
              "      <td>13</td>\n",
              "      <td>14</td>\n",
              "      <td>45</td>\n",
              "      <td>19</td>\n",
              "      <td>11</td>\n",
              "      <td>39</td>\n",
              "      <td>13</td>\n",
              "      <td>14</td>\n",
              "      <td>8</td>\n",
              "      <td>42</td>\n",
              "      <td>21</td>\n",
              "      <td>5</td>\n",
              "      <td>3</td>\n",
              "      <td>7</td>\n",
              "      <td>6</td>\n",
              "      <td>74</td>\n",
              "      <td>2</td>\n",
              "      <td>33</td>\n",
              "      <td>6</td>\n",
              "      <td>12</td>\n",
              "      <td>4</td>\n",
              "    </tr>\n",
              "    <tr>\n",
              "      <th>1926-10</th>\n",
              "      <td>43</td>\n",
              "      <td>3</td>\n",
              "      <td>16</td>\n",
              "      <td>7</td>\n",
              "      <td>2</td>\n",
              "      <td>8</td>\n",
              "      <td>12</td>\n",
              "      <td>7</td>\n",
              "      <td>17</td>\n",
              "      <td>13</td>\n",
              "      <td>14</td>\n",
              "      <td>45</td>\n",
              "      <td>19</td>\n",
              "      <td>11</td>\n",
              "      <td>39</td>\n",
              "      <td>13</td>\n",
              "      <td>14</td>\n",
              "      <td>8</td>\n",
              "      <td>42</td>\n",
              "      <td>21</td>\n",
              "      <td>5</td>\n",
              "      <td>3</td>\n",
              "      <td>7</td>\n",
              "      <td>6</td>\n",
              "      <td>74</td>\n",
              "      <td>2</td>\n",
              "      <td>33</td>\n",
              "      <td>6</td>\n",
              "      <td>12</td>\n",
              "      <td>4</td>\n",
              "    </tr>\n",
              "    <tr>\n",
              "      <th>1926-11</th>\n",
              "      <td>43</td>\n",
              "      <td>3</td>\n",
              "      <td>16</td>\n",
              "      <td>7</td>\n",
              "      <td>2</td>\n",
              "      <td>8</td>\n",
              "      <td>12</td>\n",
              "      <td>7</td>\n",
              "      <td>17</td>\n",
              "      <td>13</td>\n",
              "      <td>14</td>\n",
              "      <td>45</td>\n",
              "      <td>19</td>\n",
              "      <td>11</td>\n",
              "      <td>39</td>\n",
              "      <td>13</td>\n",
              "      <td>14</td>\n",
              "      <td>8</td>\n",
              "      <td>42</td>\n",
              "      <td>21</td>\n",
              "      <td>5</td>\n",
              "      <td>3</td>\n",
              "      <td>7</td>\n",
              "      <td>6</td>\n",
              "      <td>74</td>\n",
              "      <td>2</td>\n",
              "      <td>33</td>\n",
              "      <td>6</td>\n",
              "      <td>12</td>\n",
              "      <td>4</td>\n",
              "    </tr>\n",
              "  </tbody>\n",
              "</table>\n",
              "</div>"
            ],
            "text/plain": [
              "         Food  Beer  Smoke  Games  Books  ...  Whlsl  Rtail  Meals  Fin  Other\n",
              "1926-07    43     3     16      7      2  ...      2     33      6   12      4\n",
              "1926-08    43     3     16      7      2  ...      2     33      6   12      4\n",
              "1926-09    43     3     16      7      2  ...      2     33      6   12      4\n",
              "1926-10    43     3     16      7      2  ...      2     33      6   12      4\n",
              "1926-11    43     3     16      7      2  ...      2     33      6   12      4\n",
              "\n",
              "[5 rows x 30 columns]"
            ]
          },
          "metadata": {
            "tags": []
          },
          "execution_count": 4
        }
      ]
    },
    {
      "cell_type": "code",
      "metadata": {
        "colab": {
          "base_uri": "https://localhost:8080/",
          "height": 299
        },
        "id": "tflyEu2yOTxn",
        "outputId": "ae2693d6-b1e0-4412-cd83-9188177de17b"
      },
      "source": [
        "n_size.head()"
      ],
      "execution_count": null,
      "outputs": [
        {
          "output_type": "execute_result",
          "data": {
            "text/html": [
              "<div>\n",
              "<style scoped>\n",
              "    .dataframe tbody tr th:only-of-type {\n",
              "        vertical-align: middle;\n",
              "    }\n",
              "\n",
              "    .dataframe tbody tr th {\n",
              "        vertical-align: top;\n",
              "    }\n",
              "\n",
              "    .dataframe thead th {\n",
              "        text-align: right;\n",
              "    }\n",
              "</style>\n",
              "<table border=\"1\" class=\"dataframe\">\n",
              "  <thead>\n",
              "    <tr style=\"text-align: right;\">\n",
              "      <th></th>\n",
              "      <th>Food</th>\n",
              "      <th>Beer</th>\n",
              "      <th>Smoke</th>\n",
              "      <th>Games</th>\n",
              "      <th>Books</th>\n",
              "      <th>Hshld</th>\n",
              "      <th>Clths</th>\n",
              "      <th>Hlth</th>\n",
              "      <th>Chems</th>\n",
              "      <th>Txtls</th>\n",
              "      <th>Cnstr</th>\n",
              "      <th>Steel</th>\n",
              "      <th>FabPr</th>\n",
              "      <th>ElcEq</th>\n",
              "      <th>Autos</th>\n",
              "      <th>Carry</th>\n",
              "      <th>Mines</th>\n",
              "      <th>Coal</th>\n",
              "      <th>Oil</th>\n",
              "      <th>Util</th>\n",
              "      <th>Telcm</th>\n",
              "      <th>Servs</th>\n",
              "      <th>BusEq</th>\n",
              "      <th>Paper</th>\n",
              "      <th>Trans</th>\n",
              "      <th>Whlsl</th>\n",
              "      <th>Rtail</th>\n",
              "      <th>Meals</th>\n",
              "      <th>Fin</th>\n",
              "      <th>Other</th>\n",
              "    </tr>\n",
              "  </thead>\n",
              "  <tbody>\n",
              "    <tr>\n",
              "      <th>1926-07</th>\n",
              "      <td>35.98</td>\n",
              "      <td>7.12</td>\n",
              "      <td>59.72</td>\n",
              "      <td>26.41</td>\n",
              "      <td>12.02</td>\n",
              "      <td>22.27</td>\n",
              "      <td>18.36</td>\n",
              "      <td>25.52</td>\n",
              "      <td>57.59</td>\n",
              "      <td>6.18</td>\n",
              "      <td>20.05</td>\n",
              "      <td>48.56</td>\n",
              "      <td>27.47</td>\n",
              "      <td>110.78</td>\n",
              "      <td>47.55</td>\n",
              "      <td>41.30</td>\n",
              "      <td>27.74</td>\n",
              "      <td>40.52</td>\n",
              "      <td>92.79</td>\n",
              "      <td>81.22</td>\n",
              "      <td>350.36</td>\n",
              "      <td>13.60</td>\n",
              "      <td>56.70</td>\n",
              "      <td>35.35</td>\n",
              "      <td>66.91</td>\n",
              "      <td>1.19</td>\n",
              "      <td>46.65</td>\n",
              "      <td>10.82</td>\n",
              "      <td>18.83</td>\n",
              "      <td>24.25</td>\n",
              "    </tr>\n",
              "    <tr>\n",
              "      <th>1926-08</th>\n",
              "      <td>36.10</td>\n",
              "      <td>6.75</td>\n",
              "      <td>60.47</td>\n",
              "      <td>27.17</td>\n",
              "      <td>13.33</td>\n",
              "      <td>22.13</td>\n",
              "      <td>19.83</td>\n",
              "      <td>25.80</td>\n",
              "      <td>62.13</td>\n",
              "      <td>6.20</td>\n",
              "      <td>20.46</td>\n",
              "      <td>50.39</td>\n",
              "      <td>28.91</td>\n",
              "      <td>114.29</td>\n",
              "      <td>55.11</td>\n",
              "      <td>41.50</td>\n",
              "      <td>29.30</td>\n",
              "      <td>40.83</td>\n",
              "      <td>91.43</td>\n",
              "      <td>86.81</td>\n",
              "      <td>353.27</td>\n",
              "      <td>14.75</td>\n",
              "      <td>57.74</td>\n",
              "      <td>37.86</td>\n",
              "      <td>67.99</td>\n",
              "      <td>0.90</td>\n",
              "      <td>46.57</td>\n",
              "      <td>11.00</td>\n",
              "      <td>18.88</td>\n",
              "      <td>25.51</td>\n",
              "    </tr>\n",
              "    <tr>\n",
              "      <th>1926-09</th>\n",
              "      <td>37.00</td>\n",
              "      <td>8.58</td>\n",
              "      <td>64.03</td>\n",
              "      <td>27.30</td>\n",
              "      <td>14.67</td>\n",
              "      <td>21.18</td>\n",
              "      <td>19.29</td>\n",
              "      <td>26.73</td>\n",
              "      <td>65.53</td>\n",
              "      <td>6.71</td>\n",
              "      <td>21.41</td>\n",
              "      <td>51.21</td>\n",
              "      <td>29.34</td>\n",
              "      <td>116.69</td>\n",
              "      <td>57.11</td>\n",
              "      <td>42.17</td>\n",
              "      <td>29.45</td>\n",
              "      <td>41.18</td>\n",
              "      <td>94.86</td>\n",
              "      <td>85.01</td>\n",
              "      <td>360.96</td>\n",
              "      <td>15.05</td>\n",
              "      <td>59.61</td>\n",
              "      <td>36.82</td>\n",
              "      <td>71.02</td>\n",
              "      <td>0.95</td>\n",
              "      <td>46.11</td>\n",
              "      <td>10.94</td>\n",
              "      <td>19.67</td>\n",
              "      <td>27.21</td>\n",
              "    </tr>\n",
              "    <tr>\n",
              "      <th>1926-10</th>\n",
              "      <td>37.14</td>\n",
              "      <td>8.92</td>\n",
              "      <td>64.42</td>\n",
              "      <td>28.76</td>\n",
              "      <td>14.42</td>\n",
              "      <td>21.23</td>\n",
              "      <td>19.03</td>\n",
              "      <td>26.87</td>\n",
              "      <td>68.47</td>\n",
              "      <td>6.82</td>\n",
              "      <td>21.10</td>\n",
              "      <td>51.02</td>\n",
              "      <td>29.30</td>\n",
              "      <td>114.93</td>\n",
              "      <td>59.69</td>\n",
              "      <td>43.05</td>\n",
              "      <td>29.46</td>\n",
              "      <td>41.30</td>\n",
              "      <td>90.87</td>\n",
              "      <td>86.41</td>\n",
              "      <td>364.16</td>\n",
              "      <td>15.30</td>\n",
              "      <td>59.52</td>\n",
              "      <td>34.77</td>\n",
              "      <td>70.83</td>\n",
              "      <td>0.88</td>\n",
              "      <td>46.15</td>\n",
              "      <td>10.80</td>\n",
              "      <td>19.36</td>\n",
              "      <td>26.16</td>\n",
              "    </tr>\n",
              "    <tr>\n",
              "      <th>1926-11</th>\n",
              "      <td>35.88</td>\n",
              "      <td>8.62</td>\n",
              "      <td>65.08</td>\n",
              "      <td>27.38</td>\n",
              "      <td>15.79</td>\n",
              "      <td>20.14</td>\n",
              "      <td>19.03</td>\n",
              "      <td>26.54</td>\n",
              "      <td>65.06</td>\n",
              "      <td>6.84</td>\n",
              "      <td>20.12</td>\n",
              "      <td>48.90</td>\n",
              "      <td>29.60</td>\n",
              "      <td>108.33</td>\n",
              "      <td>54.81</td>\n",
              "      <td>40.44</td>\n",
              "      <td>28.51</td>\n",
              "      <td>41.90</td>\n",
              "      <td>89.87</td>\n",
              "      <td>83.92</td>\n",
              "      <td>363.74</td>\n",
              "      <td>14.89</td>\n",
              "      <td>58.74</td>\n",
              "      <td>32.80</td>\n",
              "      <td>68.75</td>\n",
              "      <td>0.74</td>\n",
              "      <td>45.03</td>\n",
              "      <td>10.33</td>\n",
              "      <td>18.35</td>\n",
              "      <td>23.94</td>\n",
              "    </tr>\n",
              "  </tbody>\n",
              "</table>\n",
              "</div>"
            ],
            "text/plain": [
              "          Food  Beer  Smoke  Games  Books  ...  Whlsl  Rtail  Meals    Fin  Other\n",
              "1926-07  35.98  7.12  59.72  26.41  12.02  ...   1.19  46.65  10.82  18.83  24.25\n",
              "1926-08  36.10  6.75  60.47  27.17  13.33  ...   0.90  46.57  11.00  18.88  25.51\n",
              "1926-09  37.00  8.58  64.03  27.30  14.67  ...   0.95  46.11  10.94  19.67  27.21\n",
              "1926-10  37.14  8.92  64.42  28.76  14.42  ...   0.88  46.15  10.80  19.36  26.16\n",
              "1926-11  35.88  8.62  65.08  27.38  15.79  ...   0.74  45.03  10.33  18.35  23.94\n",
              "\n",
              "[5 rows x 30 columns]"
            ]
          },
          "metadata": {
            "tags": []
          },
          "execution_count": 5
        }
      ]
    },
    {
      "cell_type": "code",
      "metadata": {
        "id": "XTnVzGRFGcbR",
        "colab": {
          "base_uri": "https://localhost:8080/",
          "height": 299
        },
        "outputId": "52c25a71-c335-48bd-f2e0-2ce56afedc4d"
      },
      "source": [
        "n_market_cap=n_firms*n_size\n",
        "n_market_cap.head()"
      ],
      "execution_count": null,
      "outputs": [
        {
          "output_type": "execute_result",
          "data": {
            "text/html": [
              "<div>\n",
              "<style scoped>\n",
              "    .dataframe tbody tr th:only-of-type {\n",
              "        vertical-align: middle;\n",
              "    }\n",
              "\n",
              "    .dataframe tbody tr th {\n",
              "        vertical-align: top;\n",
              "    }\n",
              "\n",
              "    .dataframe thead th {\n",
              "        text-align: right;\n",
              "    }\n",
              "</style>\n",
              "<table border=\"1\" class=\"dataframe\">\n",
              "  <thead>\n",
              "    <tr style=\"text-align: right;\">\n",
              "      <th></th>\n",
              "      <th>Food</th>\n",
              "      <th>Beer</th>\n",
              "      <th>Smoke</th>\n",
              "      <th>Games</th>\n",
              "      <th>Books</th>\n",
              "      <th>Hshld</th>\n",
              "      <th>Clths</th>\n",
              "      <th>Hlth</th>\n",
              "      <th>Chems</th>\n",
              "      <th>Txtls</th>\n",
              "      <th>Cnstr</th>\n",
              "      <th>Steel</th>\n",
              "      <th>FabPr</th>\n",
              "      <th>ElcEq</th>\n",
              "      <th>Autos</th>\n",
              "      <th>Carry</th>\n",
              "      <th>Mines</th>\n",
              "      <th>Coal</th>\n",
              "      <th>Oil</th>\n",
              "      <th>Util</th>\n",
              "      <th>Telcm</th>\n",
              "      <th>Servs</th>\n",
              "      <th>BusEq</th>\n",
              "      <th>Paper</th>\n",
              "      <th>Trans</th>\n",
              "      <th>Whlsl</th>\n",
              "      <th>Rtail</th>\n",
              "      <th>Meals</th>\n",
              "      <th>Fin</th>\n",
              "      <th>Other</th>\n",
              "    </tr>\n",
              "  </thead>\n",
              "  <tbody>\n",
              "    <tr>\n",
              "      <th>1926-07</th>\n",
              "      <td>1547.14</td>\n",
              "      <td>21.36</td>\n",
              "      <td>955.52</td>\n",
              "      <td>184.87</td>\n",
              "      <td>24.04</td>\n",
              "      <td>178.16</td>\n",
              "      <td>220.32</td>\n",
              "      <td>178.64</td>\n",
              "      <td>979.03</td>\n",
              "      <td>80.34</td>\n",
              "      <td>280.70</td>\n",
              "      <td>2185.20</td>\n",
              "      <td>521.93</td>\n",
              "      <td>1218.58</td>\n",
              "      <td>1854.45</td>\n",
              "      <td>536.90</td>\n",
              "      <td>388.36</td>\n",
              "      <td>324.16</td>\n",
              "      <td>3989.97</td>\n",
              "      <td>1705.62</td>\n",
              "      <td>1751.80</td>\n",
              "      <td>40.80</td>\n",
              "      <td>396.90</td>\n",
              "      <td>212.10</td>\n",
              "      <td>4951.34</td>\n",
              "      <td>2.38</td>\n",
              "      <td>1539.45</td>\n",
              "      <td>64.92</td>\n",
              "      <td>225.96</td>\n",
              "      <td>97.00</td>\n",
              "    </tr>\n",
              "    <tr>\n",
              "      <th>1926-08</th>\n",
              "      <td>1552.30</td>\n",
              "      <td>20.25</td>\n",
              "      <td>967.52</td>\n",
              "      <td>190.19</td>\n",
              "      <td>26.66</td>\n",
              "      <td>177.04</td>\n",
              "      <td>237.96</td>\n",
              "      <td>180.60</td>\n",
              "      <td>1056.21</td>\n",
              "      <td>80.60</td>\n",
              "      <td>286.44</td>\n",
              "      <td>2267.55</td>\n",
              "      <td>549.29</td>\n",
              "      <td>1257.19</td>\n",
              "      <td>2149.29</td>\n",
              "      <td>539.50</td>\n",
              "      <td>410.20</td>\n",
              "      <td>326.64</td>\n",
              "      <td>3931.49</td>\n",
              "      <td>1823.01</td>\n",
              "      <td>1766.35</td>\n",
              "      <td>44.25</td>\n",
              "      <td>404.18</td>\n",
              "      <td>227.16</td>\n",
              "      <td>5031.26</td>\n",
              "      <td>1.80</td>\n",
              "      <td>1536.81</td>\n",
              "      <td>66.00</td>\n",
              "      <td>226.56</td>\n",
              "      <td>102.04</td>\n",
              "    </tr>\n",
              "    <tr>\n",
              "      <th>1926-09</th>\n",
              "      <td>1591.00</td>\n",
              "      <td>25.74</td>\n",
              "      <td>1024.48</td>\n",
              "      <td>191.10</td>\n",
              "      <td>29.34</td>\n",
              "      <td>169.44</td>\n",
              "      <td>231.48</td>\n",
              "      <td>187.11</td>\n",
              "      <td>1114.01</td>\n",
              "      <td>87.23</td>\n",
              "      <td>299.74</td>\n",
              "      <td>2304.45</td>\n",
              "      <td>557.46</td>\n",
              "      <td>1283.59</td>\n",
              "      <td>2227.29</td>\n",
              "      <td>548.21</td>\n",
              "      <td>412.30</td>\n",
              "      <td>329.44</td>\n",
              "      <td>3984.12</td>\n",
              "      <td>1785.21</td>\n",
              "      <td>1804.80</td>\n",
              "      <td>45.15</td>\n",
              "      <td>417.27</td>\n",
              "      <td>220.92</td>\n",
              "      <td>5255.48</td>\n",
              "      <td>1.90</td>\n",
              "      <td>1521.63</td>\n",
              "      <td>65.64</td>\n",
              "      <td>236.04</td>\n",
              "      <td>108.84</td>\n",
              "    </tr>\n",
              "    <tr>\n",
              "      <th>1926-10</th>\n",
              "      <td>1597.02</td>\n",
              "      <td>26.76</td>\n",
              "      <td>1030.72</td>\n",
              "      <td>201.32</td>\n",
              "      <td>28.84</td>\n",
              "      <td>169.84</td>\n",
              "      <td>228.36</td>\n",
              "      <td>188.09</td>\n",
              "      <td>1163.99</td>\n",
              "      <td>88.66</td>\n",
              "      <td>295.40</td>\n",
              "      <td>2295.90</td>\n",
              "      <td>556.70</td>\n",
              "      <td>1264.23</td>\n",
              "      <td>2327.91</td>\n",
              "      <td>559.65</td>\n",
              "      <td>412.44</td>\n",
              "      <td>330.40</td>\n",
              "      <td>3816.54</td>\n",
              "      <td>1814.61</td>\n",
              "      <td>1820.80</td>\n",
              "      <td>45.90</td>\n",
              "      <td>416.64</td>\n",
              "      <td>208.62</td>\n",
              "      <td>5241.42</td>\n",
              "      <td>1.76</td>\n",
              "      <td>1522.95</td>\n",
              "      <td>64.80</td>\n",
              "      <td>232.32</td>\n",
              "      <td>104.64</td>\n",
              "    </tr>\n",
              "    <tr>\n",
              "      <th>1926-11</th>\n",
              "      <td>1542.84</td>\n",
              "      <td>25.86</td>\n",
              "      <td>1041.28</td>\n",
              "      <td>191.66</td>\n",
              "      <td>31.58</td>\n",
              "      <td>161.12</td>\n",
              "      <td>228.36</td>\n",
              "      <td>185.78</td>\n",
              "      <td>1106.02</td>\n",
              "      <td>88.92</td>\n",
              "      <td>281.68</td>\n",
              "      <td>2200.50</td>\n",
              "      <td>562.40</td>\n",
              "      <td>1191.63</td>\n",
              "      <td>2137.59</td>\n",
              "      <td>525.72</td>\n",
              "      <td>399.14</td>\n",
              "      <td>335.20</td>\n",
              "      <td>3774.54</td>\n",
              "      <td>1762.32</td>\n",
              "      <td>1818.70</td>\n",
              "      <td>44.67</td>\n",
              "      <td>411.18</td>\n",
              "      <td>196.80</td>\n",
              "      <td>5087.50</td>\n",
              "      <td>1.48</td>\n",
              "      <td>1485.99</td>\n",
              "      <td>61.98</td>\n",
              "      <td>220.20</td>\n",
              "      <td>95.76</td>\n",
              "    </tr>\n",
              "  </tbody>\n",
              "</table>\n",
              "</div>"
            ],
            "text/plain": [
              "            Food   Beer    Smoke   Games  ...    Rtail  Meals     Fin   Other\n",
              "1926-07  1547.14  21.36   955.52  184.87  ...  1539.45  64.92  225.96   97.00\n",
              "1926-08  1552.30  20.25   967.52  190.19  ...  1536.81  66.00  226.56  102.04\n",
              "1926-09  1591.00  25.74  1024.48  191.10  ...  1521.63  65.64  236.04  108.84\n",
              "1926-10  1597.02  26.76  1030.72  201.32  ...  1522.95  64.80  232.32  104.64\n",
              "1926-11  1542.84  25.86  1041.28  191.66  ...  1485.99  61.98  220.20   95.76\n",
              "\n",
              "[5 rows x 30 columns]"
            ]
          },
          "metadata": {
            "tags": []
          },
          "execution_count": 6
        }
      ]
    },
    {
      "cell_type": "code",
      "metadata": {
        "id": "OXnXHq1eGgcL",
        "colab": {
          "base_uri": "https://localhost:8080/"
        },
        "outputId": "f95d0654-85aa-4d82-fe86-7be9ae396d7e"
      },
      "source": [
        "total_m_cap=n_market_cap.sum(axis='columns') #total market capitalization\n",
        "n_cap_weights=n_market_cap.divide(total_m_cap,axis='rows')\n",
        "total_market_return = (n_cap_weights*n_returns).sum(axis=\"columns\")\n",
        "total_market_return\n"
      ],
      "execution_count": null,
      "outputs": [
        {
          "output_type": "execute_result",
          "data": {
            "text/plain": [
              "1926-07    0.031375\n",
              "1926-08    0.028957\n",
              "1926-09    0.005566\n",
              "1926-10   -0.028504\n",
              "1926-11    0.028039\n",
              "             ...   \n",
              "2018-08    0.036951\n",
              "2018-09    0.002108\n",
              "2018-10   -0.074292\n",
              "2018-11    0.019003\n",
              "2018-12   -0.092911\n",
              "Freq: M, Length: 1110, dtype: float64"
            ]
          },
          "metadata": {
            "tags": []
          },
          "execution_count": 7
        }
      ]
    },
    {
      "cell_type": "markdown",
      "metadata": {
        "id": "cJL79wAVUEZA"
      },
      "source": [
        "#CONSIDERING DATA 2000 onwards"
      ]
    },
    {
      "cell_type": "code",
      "metadata": {
        "id": "afkXXUSfGt9e"
      },
      "source": [
        "risky_r=n_returns['2000':][['Steel','Fin','Beer']]"
      ],
      "execution_count": null,
      "outputs": []
    },
    {
      "cell_type": "code",
      "metadata": {
        "colab": {
          "base_uri": "https://localhost:8080/",
          "height": 195
        },
        "id": "hDjB5EJqHk3w",
        "outputId": "2577cd50-3424-45fc-b71c-61b7479a8b0e"
      },
      "source": [
        "risky_r.head()"
      ],
      "execution_count": null,
      "outputs": [
        {
          "output_type": "execute_result",
          "data": {
            "text/html": [
              "<div>\n",
              "<style scoped>\n",
              "    .dataframe tbody tr th:only-of-type {\n",
              "        vertical-align: middle;\n",
              "    }\n",
              "\n",
              "    .dataframe tbody tr th {\n",
              "        vertical-align: top;\n",
              "    }\n",
              "\n",
              "    .dataframe thead th {\n",
              "        text-align: right;\n",
              "    }\n",
              "</style>\n",
              "<table border=\"1\" class=\"dataframe\">\n",
              "  <thead>\n",
              "    <tr style=\"text-align: right;\">\n",
              "      <th></th>\n",
              "      <th>Steel</th>\n",
              "      <th>Fin</th>\n",
              "      <th>Beer</th>\n",
              "    </tr>\n",
              "  </thead>\n",
              "  <tbody>\n",
              "    <tr>\n",
              "      <th>2000-01</th>\n",
              "      <td>-0.0277</td>\n",
              "      <td>-0.0442</td>\n",
              "      <td>-0.0228</td>\n",
              "    </tr>\n",
              "    <tr>\n",
              "      <th>2000-02</th>\n",
              "      <td>0.0684</td>\n",
              "      <td>-0.0849</td>\n",
              "      <td>-0.1164</td>\n",
              "    </tr>\n",
              "    <tr>\n",
              "      <th>2000-03</th>\n",
              "      <td>0.0349</td>\n",
              "      <td>0.1669</td>\n",
              "      <td>0.0013</td>\n",
              "    </tr>\n",
              "    <tr>\n",
              "      <th>2000-04</th>\n",
              "      <td>-0.0084</td>\n",
              "      <td>-0.0425</td>\n",
              "      <td>0.0368</td>\n",
              "    </tr>\n",
              "    <tr>\n",
              "      <th>2000-05</th>\n",
              "      <td>-0.0492</td>\n",
              "      <td>0.0506</td>\n",
              "      <td>0.1187</td>\n",
              "    </tr>\n",
              "  </tbody>\n",
              "</table>\n",
              "</div>"
            ],
            "text/plain": [
              "          Steel     Fin    Beer\n",
              "2000-01 -0.0277 -0.0442 -0.0228\n",
              "2000-02  0.0684 -0.0849 -0.1164\n",
              "2000-03  0.0349  0.1669  0.0013\n",
              "2000-04 -0.0084 -0.0425  0.0368\n",
              "2000-05 -0.0492  0.0506  0.1187"
            ]
          },
          "metadata": {
            "tags": []
          },
          "execution_count": 9
        }
      ]
    },
    {
      "cell_type": "code",
      "metadata": {
        "id": "FnusZIlZHyUZ"
      },
      "source": [
        "safe_r=pd.DataFrame().reindex_like(risky_r)"
      ],
      "execution_count": null,
      "outputs": []
    },
    {
      "cell_type": "code",
      "metadata": {
        "id": "Wzbpb9XpH41w"
      },
      "source": [
        "safe_r[:]=0.03/12 #monthly returns mota moti 0.03/12 assumed hai"
      ],
      "execution_count": null,
      "outputs": []
    },
    {
      "cell_type": "code",
      "metadata": {
        "colab": {
          "base_uri": "https://localhost:8080/",
          "height": 402
        },
        "id": "961fkXStNp1w",
        "outputId": "d88bcea2-30f0-4e15-df4b-1a2c2dfac637"
      },
      "source": [
        "risky_r"
      ],
      "execution_count": null,
      "outputs": [
        {
          "output_type": "execute_result",
          "data": {
            "text/html": [
              "<div>\n",
              "<style scoped>\n",
              "    .dataframe tbody tr th:only-of-type {\n",
              "        vertical-align: middle;\n",
              "    }\n",
              "\n",
              "    .dataframe tbody tr th {\n",
              "        vertical-align: top;\n",
              "    }\n",
              "\n",
              "    .dataframe thead th {\n",
              "        text-align: right;\n",
              "    }\n",
              "</style>\n",
              "<table border=\"1\" class=\"dataframe\">\n",
              "  <thead>\n",
              "    <tr style=\"text-align: right;\">\n",
              "      <th></th>\n",
              "      <th>Steel</th>\n",
              "      <th>Fin</th>\n",
              "      <th>Beer</th>\n",
              "    </tr>\n",
              "  </thead>\n",
              "  <tbody>\n",
              "    <tr>\n",
              "      <th>2000-01</th>\n",
              "      <td>-0.0277</td>\n",
              "      <td>-0.0442</td>\n",
              "      <td>-0.0228</td>\n",
              "    </tr>\n",
              "    <tr>\n",
              "      <th>2000-02</th>\n",
              "      <td>0.0684</td>\n",
              "      <td>-0.0849</td>\n",
              "      <td>-0.1164</td>\n",
              "    </tr>\n",
              "    <tr>\n",
              "      <th>2000-03</th>\n",
              "      <td>0.0349</td>\n",
              "      <td>0.1669</td>\n",
              "      <td>0.0013</td>\n",
              "    </tr>\n",
              "    <tr>\n",
              "      <th>2000-04</th>\n",
              "      <td>-0.0084</td>\n",
              "      <td>-0.0425</td>\n",
              "      <td>0.0368</td>\n",
              "    </tr>\n",
              "    <tr>\n",
              "      <th>2000-05</th>\n",
              "      <td>-0.0492</td>\n",
              "      <td>0.0506</td>\n",
              "      <td>0.1187</td>\n",
              "    </tr>\n",
              "    <tr>\n",
              "      <th>...</th>\n",
              "      <td>...</td>\n",
              "      <td>...</td>\n",
              "      <td>...</td>\n",
              "    </tr>\n",
              "    <tr>\n",
              "      <th>2018-08</th>\n",
              "      <td>-0.0323</td>\n",
              "      <td>0.0245</td>\n",
              "      <td>-0.0186</td>\n",
              "    </tr>\n",
              "    <tr>\n",
              "      <th>2018-09</th>\n",
              "      <td>-0.0067</td>\n",
              "      <td>-0.0193</td>\n",
              "      <td>0.0019</td>\n",
              "    </tr>\n",
              "    <tr>\n",
              "      <th>2018-10</th>\n",
              "      <td>-0.1161</td>\n",
              "      <td>-0.0545</td>\n",
              "      <td>-0.0157</td>\n",
              "    </tr>\n",
              "    <tr>\n",
              "      <th>2018-11</th>\n",
              "      <td>-0.0300</td>\n",
              "      <td>0.0289</td>\n",
              "      <td>0.0579</td>\n",
              "    </tr>\n",
              "    <tr>\n",
              "      <th>2018-12</th>\n",
              "      <td>-0.1478</td>\n",
              "      <td>-0.1144</td>\n",
              "      <td>-0.0969</td>\n",
              "    </tr>\n",
              "  </tbody>\n",
              "</table>\n",
              "<p>228 rows × 3 columns</p>\n",
              "</div>"
            ],
            "text/plain": [
              "          Steel     Fin    Beer\n",
              "2000-01 -0.0277 -0.0442 -0.0228\n",
              "2000-02  0.0684 -0.0849 -0.1164\n",
              "2000-03  0.0349  0.1669  0.0013\n",
              "2000-04 -0.0084 -0.0425  0.0368\n",
              "2000-05 -0.0492  0.0506  0.1187\n",
              "...         ...     ...     ...\n",
              "2018-08 -0.0323  0.0245 -0.0186\n",
              "2018-09 -0.0067 -0.0193  0.0019\n",
              "2018-10 -0.1161 -0.0545 -0.0157\n",
              "2018-11 -0.0300  0.0289  0.0579\n",
              "2018-12 -0.1478 -0.1144 -0.0969\n",
              "\n",
              "[228 rows x 3 columns]"
            ]
          },
          "metadata": {
            "tags": []
          },
          "execution_count": 12
        }
      ]
    },
    {
      "cell_type": "code",
      "metadata": {
        "id": "R2TU-al0IZXU"
      },
      "source": [
        "#1. Cushion - (Asset value - Floor value)\n",
        "#2. Compute an Allocation to safe and risky assets -> using m\n",
        "#3. Recompute the asset value based on returns"
      ],
      "execution_count": null,
      "outputs": []
    },
    {
      "cell_type": "code",
      "metadata": {
        "id": "R2RQ_013JiZ6"
      },
      "source": [
        "dates=risky_r.index\n",
        "n_steps=len(dates)\n",
        "\n",
        "m=3\n",
        "account_history=pd.DataFrame().reindex_like(risky_r)\n",
        "cushion_history=pd.DataFrame().reindex_like(risky_r)\n",
        "risky_w_history=pd.DataFrame().reindex_like(risky_r)\n",
        "floor_history=pd.DataFrame().reindex_like(risky_r)\n",
        "\n"
      ],
      "execution_count": null,
      "outputs": []
    },
    {
      "cell_type": "markdown",
      "metadata": {
        "id": "JLGuF84ETTJu"
      },
      "source": [
        "#CPPI IMPLEMENTATION WITH DRAWDOWN CONSTRAINED FLOOR"
      ]
    },
    {
      "cell_type": "code",
      "metadata": {
        "id": "7Q5c4XcUMSZL"
      },
      "source": [
        "temp=0\n",
        "\n",
        "start=1000\n",
        "\n",
        "account_value=1000\n",
        "drawdown_limit=0.25 # 25% bc\n",
        "for step in range(n_steps):\n",
        "\n",
        "  if temp==0:\n",
        "    floor_value=start*(1-drawdown_limit)\n",
        "    max_till_then=start\n",
        "    temp=1\n",
        "\n",
        "  else:\n",
        "    max_till_then=np.maximum(max_till_then,account_value)\n",
        "    floor_value=max_till_then*(1-drawdown_limit)\n",
        "    \n",
        "  cushion = (account_value-floor_value)/account_value\n",
        "  risky_w = m*cushion\n",
        "\n",
        "  risky_w = np.minimum(risky_w,1)\n",
        "  risky_w=np.maximum(risky_w,0)\n",
        "\n",
        "  # this ensures risky_w to be in betwwen 0 and 1\n",
        "\n",
        "  safe_w = 1-risky_w\n",
        "\n",
        "  risky_allocation=account_value*risky_w\n",
        "  safe_allocation=account_value*safe_w\n",
        "\n",
        "  ##updation of account value\n",
        "\n",
        "  account_value = (risky_allocation*(1+risky_r.iloc[step]))+(safe_allocation*(1+safe_r.iloc[step]))\n",
        "\n",
        "  # saving the values so I can look at history and plot it\n",
        "\n",
        "  cushion_history.iloc[step]=cushion\n",
        "  risky_w_history.iloc[step]=risky_w\n",
        "  account_history.iloc[step]=account_value\n",
        "  floor_history.iloc[step]=floor_value\n",
        "\n",
        "  # all the operations will be performed simultaneously on all columns"
      ],
      "execution_count": null,
      "outputs": []
    },
    {
      "cell_type": "code",
      "metadata": {
        "colab": {
          "base_uri": "https://localhost:8080/",
          "height": 195
        },
        "id": "lBFszIBwYnGy",
        "outputId": "fdb81bf7-1a32-4251-ee9b-fcf8e6df1a8f"
      },
      "source": [
        "account_history.head() # at the end of that month"
      ],
      "execution_count": null,
      "outputs": [
        {
          "output_type": "execute_result",
          "data": {
            "text/html": [
              "<div>\n",
              "<style scoped>\n",
              "    .dataframe tbody tr th:only-of-type {\n",
              "        vertical-align: middle;\n",
              "    }\n",
              "\n",
              "    .dataframe tbody tr th {\n",
              "        vertical-align: top;\n",
              "    }\n",
              "\n",
              "    .dataframe thead th {\n",
              "        text-align: right;\n",
              "    }\n",
              "</style>\n",
              "<table border=\"1\" class=\"dataframe\">\n",
              "  <thead>\n",
              "    <tr style=\"text-align: right;\">\n",
              "      <th></th>\n",
              "      <th>Steel</th>\n",
              "      <th>Fin</th>\n",
              "      <th>Beer</th>\n",
              "    </tr>\n",
              "  </thead>\n",
              "  <tbody>\n",
              "    <tr>\n",
              "      <th>2000-01</th>\n",
              "      <td>979.850000</td>\n",
              "      <td>967.475000</td>\n",
              "      <td>983.525000</td>\n",
              "    </tr>\n",
              "    <tr>\n",
              "      <th>2000-02</th>\n",
              "      <td>1027.740970</td>\n",
              "      <td>912.871742</td>\n",
              "      <td>902.685445</td>\n",
              "    </tr>\n",
              "    <tr>\n",
              "      <th>2000-03</th>\n",
              "      <td>1055.284428</td>\n",
              "      <td>995.482265</td>\n",
              "      <td>904.392491</td>\n",
              "    </tr>\n",
              "    <tr>\n",
              "      <th>2000-04</th>\n",
              "      <td>1049.295689</td>\n",
              "      <td>964.830865</td>\n",
              "      <td>922.540460</td>\n",
              "    </tr>\n",
              "    <tr>\n",
              "      <th>2000-05</th>\n",
              "      <td>1011.929128</td>\n",
              "      <td>998.243036</td>\n",
              "      <td>984.994415</td>\n",
              "    </tr>\n",
              "  </tbody>\n",
              "</table>\n",
              "</div>"
            ],
            "text/plain": [
              "               Steel         Fin        Beer\n",
              "2000-01   979.850000  967.475000  983.525000\n",
              "2000-02  1027.740970  912.871742  902.685445\n",
              "2000-03  1055.284428  995.482265  904.392491\n",
              "2000-04  1049.295689  964.830865  922.540460\n",
              "2000-05  1011.929128  998.243036  984.994415"
            ]
          },
          "metadata": {
            "tags": []
          },
          "execution_count": 16
        }
      ]
    },
    {
      "cell_type": "code",
      "metadata": {
        "colab": {
          "base_uri": "https://localhost:8080/",
          "height": 500
        },
        "id": "Atyn0JEDRFFU",
        "outputId": "613cfa63-cf90-4109-ebdb-ab0d05f720ac"
      },
      "source": [
        "account_history.plot(figsize=(12,8))"
      ],
      "execution_count": null,
      "outputs": [
        {
          "output_type": "execute_result",
          "data": {
            "text/plain": [
              "<matplotlib.axes._subplots.AxesSubplot at 0x7fce848de990>"
            ]
          },
          "metadata": {
            "tags": []
          },
          "execution_count": 17
        },
        {
          "output_type": "display_data",
          "data": {
            "image/png": "[encoded data removed]",
            "text/plain": [
              "<Figure size 864x576 with 1 Axes>"
            ]
          },
          "metadata": {
            "tags": [],
            "needs_background": "light"
          }
        }
      ]
    },
    {
      "cell_type": "code",
      "metadata": {
        "colab": {
          "base_uri": "https://localhost:8080/",
          "height": 195
        },
        "id": "Ni1FCVCLQ290",
        "outputId": "60e8ea76-3b16-4cf8-dd39-990b768e5507"
      },
      "source": [
        "cushion_history.head() # at the beginnig of the month"
      ],
      "execution_count": null,
      "outputs": [
        {
          "output_type": "execute_result",
          "data": {
            "text/html": [
              "<div>\n",
              "<style scoped>\n",
              "    .dataframe tbody tr th:only-of-type {\n",
              "        vertical-align: middle;\n",
              "    }\n",
              "\n",
              "    .dataframe tbody tr th {\n",
              "        vertical-align: top;\n",
              "    }\n",
              "\n",
              "    .dataframe thead th {\n",
              "        text-align: right;\n",
              "    }\n",
              "</style>\n",
              "<table border=\"1\" class=\"dataframe\">\n",
              "  <thead>\n",
              "    <tr style=\"text-align: right;\">\n",
              "      <th></th>\n",
              "      <th>Steel</th>\n",
              "      <th>Fin</th>\n",
              "      <th>Beer</th>\n",
              "    </tr>\n",
              "  </thead>\n",
              "  <tbody>\n",
              "    <tr>\n",
              "      <th>2000-01</th>\n",
              "      <td>0.250000</td>\n",
              "      <td>0.250000</td>\n",
              "      <td>0.250000</td>\n",
              "    </tr>\n",
              "    <tr>\n",
              "      <th>2000-02</th>\n",
              "      <td>0.234577</td>\n",
              "      <td>0.224786</td>\n",
              "      <td>0.237437</td>\n",
              "    </tr>\n",
              "    <tr>\n",
              "      <th>2000-03</th>\n",
              "      <td>0.250000</td>\n",
              "      <td>0.178417</td>\n",
              "      <td>0.169146</td>\n",
              "    </tr>\n",
              "    <tr>\n",
              "      <th>2000-04</th>\n",
              "      <td>0.250000</td>\n",
              "      <td>0.246596</td>\n",
              "      <td>0.170714</td>\n",
              "    </tr>\n",
              "    <tr>\n",
              "      <th>2000-05</th>\n",
              "      <td>0.245719</td>\n",
              "      <td>0.222662</td>\n",
              "      <td>0.187028</td>\n",
              "    </tr>\n",
              "  </tbody>\n",
              "</table>\n",
              "</div>"
            ],
            "text/plain": [
              "            Steel       Fin      Beer\n",
              "2000-01  0.250000  0.250000  0.250000\n",
              "2000-02  0.234577  0.224786  0.237437\n",
              "2000-03  0.250000  0.178417  0.169146\n",
              "2000-04  0.250000  0.246596  0.170714\n",
              "2000-05  0.245719  0.222662  0.187028"
            ]
          },
          "metadata": {
            "tags": []
          },
          "execution_count": 18
        }
      ]
    },
    {
      "cell_type": "code",
      "metadata": {
        "colab": {
          "base_uri": "https://localhost:8080/",
          "height": 195
        },
        "id": "oU7Le3wqRMA5",
        "outputId": "afeffe82-8c91-4b14-b452-9d1dcf33e9c6"
      },
      "source": [
        "risky_w_history.head() # for that month"
      ],
      "execution_count": null,
      "outputs": [
        {
          "output_type": "execute_result",
          "data": {
            "text/html": [
              "<div>\n",
              "<style scoped>\n",
              "    .dataframe tbody tr th:only-of-type {\n",
              "        vertical-align: middle;\n",
              "    }\n",
              "\n",
              "    .dataframe tbody tr th {\n",
              "        vertical-align: top;\n",
              "    }\n",
              "\n",
              "    .dataframe thead th {\n",
              "        text-align: right;\n",
              "    }\n",
              "</style>\n",
              "<table border=\"1\" class=\"dataframe\">\n",
              "  <thead>\n",
              "    <tr style=\"text-align: right;\">\n",
              "      <th></th>\n",
              "      <th>Steel</th>\n",
              "      <th>Fin</th>\n",
              "      <th>Beer</th>\n",
              "    </tr>\n",
              "  </thead>\n",
              "  <tbody>\n",
              "    <tr>\n",
              "      <th>2000-01</th>\n",
              "      <td>0.750000</td>\n",
              "      <td>0.750000</td>\n",
              "      <td>0.750000</td>\n",
              "    </tr>\n",
              "    <tr>\n",
              "      <th>2000-02</th>\n",
              "      <td>0.703730</td>\n",
              "      <td>0.674359</td>\n",
              "      <td>0.712310</td>\n",
              "    </tr>\n",
              "    <tr>\n",
              "      <th>2000-03</th>\n",
              "      <td>0.750000</td>\n",
              "      <td>0.535251</td>\n",
              "      <td>0.507437</td>\n",
              "    </tr>\n",
              "    <tr>\n",
              "      <th>2000-04</th>\n",
              "      <td>0.750000</td>\n",
              "      <td>0.739789</td>\n",
              "      <td>0.512142</td>\n",
              "    </tr>\n",
              "    <tr>\n",
              "      <th>2000-05</th>\n",
              "      <td>0.737158</td>\n",
              "      <td>0.667985</td>\n",
              "      <td>0.561083</td>\n",
              "    </tr>\n",
              "  </tbody>\n",
              "</table>\n",
              "</div>"
            ],
            "text/plain": [
              "            Steel       Fin      Beer\n",
              "2000-01  0.750000  0.750000  0.750000\n",
              "2000-02  0.703730  0.674359  0.712310\n",
              "2000-03  0.750000  0.535251  0.507437\n",
              "2000-04  0.750000  0.739789  0.512142\n",
              "2000-05  0.737158  0.667985  0.561083"
            ]
          },
          "metadata": {
            "tags": []
          },
          "execution_count": 19
        }
      ]
    },
    {
      "cell_type": "code",
      "metadata": {
        "colab": {
          "base_uri": "https://localhost:8080/",
          "height": 195
        },
        "id": "sdo3ICHuHmC9",
        "outputId": "eadd5618-2db0-4b78-b862-45a617c5e462"
      },
      "source": [
        "floor_history.head()"
      ],
      "execution_count": null,
      "outputs": [
        {
          "output_type": "execute_result",
          "data": {
            "text/html": [
              "<div>\n",
              "<style scoped>\n",
              "    .dataframe tbody tr th:only-of-type {\n",
              "        vertical-align: middle;\n",
              "    }\n",
              "\n",
              "    .dataframe tbody tr th {\n",
              "        vertical-align: top;\n",
              "    }\n",
              "\n",
              "    .dataframe thead th {\n",
              "        text-align: right;\n",
              "    }\n",
              "</style>\n",
              "<table border=\"1\" class=\"dataframe\">\n",
              "  <thead>\n",
              "    <tr style=\"text-align: right;\">\n",
              "      <th></th>\n",
              "      <th>Steel</th>\n",
              "      <th>Fin</th>\n",
              "      <th>Beer</th>\n",
              "    </tr>\n",
              "  </thead>\n",
              "  <tbody>\n",
              "    <tr>\n",
              "      <th>2000-01</th>\n",
              "      <td>750.000000</td>\n",
              "      <td>750.0</td>\n",
              "      <td>750.0</td>\n",
              "    </tr>\n",
              "    <tr>\n",
              "      <th>2000-02</th>\n",
              "      <td>750.000000</td>\n",
              "      <td>750.0</td>\n",
              "      <td>750.0</td>\n",
              "    </tr>\n",
              "    <tr>\n",
              "      <th>2000-03</th>\n",
              "      <td>770.805727</td>\n",
              "      <td>750.0</td>\n",
              "      <td>750.0</td>\n",
              "    </tr>\n",
              "    <tr>\n",
              "      <th>2000-04</th>\n",
              "      <td>791.463321</td>\n",
              "      <td>750.0</td>\n",
              "      <td>750.0</td>\n",
              "    </tr>\n",
              "    <tr>\n",
              "      <th>2000-05</th>\n",
              "      <td>791.463321</td>\n",
              "      <td>750.0</td>\n",
              "      <td>750.0</td>\n",
              "    </tr>\n",
              "  </tbody>\n",
              "</table>\n",
              "</div>"
            ],
            "text/plain": [
              "              Steel    Fin   Beer\n",
              "2000-01  750.000000  750.0  750.0\n",
              "2000-02  750.000000  750.0  750.0\n",
              "2000-03  770.805727  750.0  750.0\n",
              "2000-04  791.463321  750.0  750.0\n",
              "2000-05  791.463321  750.0  750.0"
            ]
          },
          "metadata": {
            "tags": []
          },
          "execution_count": 20
        }
      ]
    },
    {
      "cell_type": "markdown",
      "metadata": {
        "id": "Rvysfy3-TwHU"
      },
      "source": [
        "#PORTFOLIO WITHOUT CPPI STRATEGY"
      ]
    },
    {
      "cell_type": "code",
      "metadata": {
        "colab": {
          "base_uri": "https://localhost:8080/",
          "height": 500
        },
        "id": "FIecpItiZC17",
        "outputId": "03c01ec5-a5c5-48e0-ce83-a04a5b2d6e42"
      },
      "source": [
        "risky_wealth = start*(1+risky_r).cumprod()\n",
        "\n",
        "risky_wealth.plot(figsize=(12,8))\n",
        "plt.plot()"
      ],
      "execution_count": null,
      "outputs": [
        {
          "output_type": "execute_result",
          "data": {
            "text/plain": [
              "[]"
            ]
          },
          "metadata": {
            "tags": []
          },
          "execution_count": 21
        },
        {
          "output_type": "display_data",
          "data": {
            "image/png": "[encoded data removed]",
            "text/plain": [
              "<Figure size 864x576 with 1 Axes>"
            ]
          },
          "metadata": {
            "tags": [],
            "needs_background": "light"
          }
        }
      ]
    },
    {
      "cell_type": "markdown",
      "metadata": {
        "id": "Xe9wg47ST0WM"
      },
      "source": [
        "#PORTFOLIO WITH CPPI STRATEGY"
      ]
    },
    {
      "cell_type": "code",
      "metadata": {
        "colab": {
          "base_uri": "https://localhost:8080/",
          "height": 500
        },
        "id": "_BTGJkoRfLgq",
        "outputId": "da179801-aef9-4af7-8c4d-4bf587dd1a44"
      },
      "source": [
        "account_history['Steel'].plot(figsize=(12,8),label='With CPPI',legend=True)\n",
        "risky_wealth['Steel'].plot(figsize=(12,8),label='Without CPPI',legend=True)\n",
        "floor_history['Steel'].plot(figsize=(12,8),label='floor',legend=True)"
      ],
      "execution_count": null,
      "outputs": [
        {
          "output_type": "execute_result",
          "data": {
            "text/plain": [
              "<matplotlib.axes._subplots.AxesSubplot at 0x7fce7c6810d0>"
            ]
          },
          "metadata": {
            "tags": []
          },
          "execution_count": 22
        },
        {
          "output_type": "display_data",
          "data": {
            "image/png": "[encoded data removed]",
            "text/plain": [
              "<Figure size 864x576 with 1 Axes>"
            ]
          },
          "metadata": {
            "tags": [],
            "needs_background": "light"
          }
        }
      ]
    },
    {
      "cell_type": "code",
      "metadata": {
        "id": "LWbBOqK0fVok",
        "colab": {
          "base_uri": "https://localhost:8080/",
          "height": 500
        },
        "outputId": "6b1814f3-b0d5-4bdd-df82-454d02987e3e"
      },
      "source": [
        "account_history['Fin'].plot(figsize=(12,8),label='With CPPI',legend=True)\n",
        "risky_wealth['Fin'].plot(figsize=(12,8),label='Without CPPI',legend=True)\n",
        "floor_history['Fin'].plot(figsize=(12,8),label='floor',legend=True)"
      ],
      "execution_count": null,
      "outputs": [
        {
          "output_type": "execute_result",
          "data": {
            "text/plain": [
              "<matplotlib.axes._subplots.AxesSubplot at 0x7fce7e3f0190>"
            ]
          },
          "metadata": {
            "tags": []
          },
          "execution_count": 23
        },
        {
          "output_type": "display_data",
          "data": {
            "image/png": "[encoded data removed]",
            "text/plain": [
              "<Figure size 864x576 with 1 Axes>"
            ]
          },
          "metadata": {
            "tags": [],
            "needs_background": "light"
          }
        }
      ]
    },
    {
      "cell_type": "code",
      "metadata": {
        "colab": {
          "base_uri": "https://localhost:8080/",
          "height": 500
        },
        "id": "GU2kj5rjKRrW",
        "outputId": "4ee3700a-c113-4c0f-c21d-709aea7a6dc7"
      },
      "source": [
        "account_history['Beer'].plot(figsize=(12,8),label='With CPPI',legend=True)\n",
        "risky_wealth['Beer'].plot(figsize=(12,8),label='Without CPPI',legend=True)\n",
        "floor_history['Beer'].plot(figsize=(12,8),label='floor',legend=True)"
      ],
      "execution_count": null,
      "outputs": [
        {
          "output_type": "execute_result",
          "data": {
            "text/plain": [
              "<matplotlib.axes._subplots.AxesSubplot at 0x7fce7c609810>"
            ]
          },
          "metadata": {
            "tags": []
          },
          "execution_count": 24
        },
        {
          "output_type": "display_data",
          "data": {
            "image/png": "[encoded data removed]",
            "text/plain": [
              "<Figure size 864x576 with 1 Axes>"
            ]
          },
          "metadata": {
            "tags": [],
            "needs_background": "light"
          }
        }
      ]
    },
    {
      "cell_type": "code",
      "metadata": {
        "id": "8JMMjH4oSG7Z"
      },
      "source": [],
      "execution_count": null,
      "outputs": []
    }
  ]
}