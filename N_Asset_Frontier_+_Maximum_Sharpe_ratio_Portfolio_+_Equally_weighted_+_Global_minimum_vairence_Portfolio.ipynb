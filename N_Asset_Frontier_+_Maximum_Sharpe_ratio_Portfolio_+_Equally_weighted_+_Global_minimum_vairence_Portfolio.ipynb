{
  "nbformat": 4,
  "nbformat_minor": 0,
  "metadata": {
    "colab": {
      "provenance": []
    },
    "kernelspec": {
      "name": "python3",
      "display_name": "Python 3"
    },
    "language_info": {
      "name": "python"
    }
  },
  "cells": [
    {
      "cell_type": "code",
      "metadata": {
        "id": "uwvgIi1FQlu8"
      },
      "source": [
        "import pandas as pd\n",
        "import numpy as np\n",
        "import matplotlib.pyplot as plt"
      ],
      "execution_count": null,
      "outputs": []
    },
    {
      "cell_type": "code",
      "metadata": {
        "id": "0YE6C8yk7Auw"
      },
      "source": [
        "returns=pd.read_csv(\"ind30_m_vw_rets.csv\",header=0,index_col=0,parse_dates=True)\n",
        "returns.index=pd.to_datetime(returns.index,format='%Y%m')\n",
        "returns.index=returns.index.to_period('M')\n",
        "returns=returns/100"
      ],
      "execution_count": null,
      "outputs": []
    },
    {
      "cell_type": "code",
      "metadata": {
        "colab": {
          "base_uri": "https://localhost:8080/",
          "height": 299
        },
        "id": "drSdCywq-5PY",
        "outputId": "b82fa133-a96c-4f18-a799-34bda8dd35ba"
      },
      "source": [
        "returns.head()"
      ],
      "execution_count": null,
      "outputs": [
        {
          "output_type": "execute_result",
          "data": {
            "text/html": [
              "<div>\n",
              "<style scoped>\n",
              "    .dataframe tbody tr th:only-of-type {\n",
              "        vertical-align: middle;\n",
              "    }\n",
              "\n",
              "    .dataframe tbody tr th {\n",
              "        vertical-align: top;\n",
              "    }\n",
              "\n",
              "    .dataframe thead th {\n",
              "        text-align: right;\n",
              "    }\n",
              "</style>\n",
              "<table border=\"1\" class=\"dataframe\">\n",
              "  <thead>\n",
              "    <tr style=\"text-align: right;\">\n",
              "      <th></th>\n",
              "      <th>Food</th>\n",
              "      <th>Beer</th>\n",
              "      <th>Smoke</th>\n",
              "      <th>Games</th>\n",
              "      <th>Books</th>\n",
              "      <th>Hshld</th>\n",
              "      <th>Clths</th>\n",
              "      <th>Hlth</th>\n",
              "      <th>Chems</th>\n",
              "      <th>Txtls</th>\n",
              "      <th>Cnstr</th>\n",
              "      <th>Steel</th>\n",
              "      <th>FabPr</th>\n",
              "      <th>ElcEq</th>\n",
              "      <th>Autos</th>\n",
              "      <th>Carry</th>\n",
              "      <th>Mines</th>\n",
              "      <th>Coal</th>\n",
              "      <th>Oil</th>\n",
              "      <th>Util</th>\n",
              "      <th>Telcm</th>\n",
              "      <th>Servs</th>\n",
              "      <th>BusEq</th>\n",
              "      <th>Paper</th>\n",
              "      <th>Trans</th>\n",
              "      <th>Whlsl</th>\n",
              "      <th>Rtail</th>\n",
              "      <th>Meals</th>\n",
              "      <th>Fin</th>\n",
              "      <th>Other</th>\n",
              "    </tr>\n",
              "  </thead>\n",
              "  <tbody>\n",
              "    <tr>\n",
              "      <th>1926-07</th>\n",
              "      <td>0.0056</td>\n",
              "      <td>-0.0519</td>\n",
              "      <td>0.0129</td>\n",
              "      <td>0.0293</td>\n",
              "      <td>0.1097</td>\n",
              "      <td>-0.0048</td>\n",
              "      <td>0.0808</td>\n",
              "      <td>0.0177</td>\n",
              "      <td>0.0814</td>\n",
              "      <td>0.0039</td>\n",
              "      <td>0.0207</td>\n",
              "      <td>0.0407</td>\n",
              "      <td>0.0543</td>\n",
              "      <td>0.0318</td>\n",
              "      <td>0.1639</td>\n",
              "      <td>0.0102</td>\n",
              "      <td>0.0564</td>\n",
              "      <td>0.0154</td>\n",
              "      <td>-0.0140</td>\n",
              "      <td>0.0704</td>\n",
              "      <td>0.0083</td>\n",
              "      <td>0.0922</td>\n",
              "      <td>0.0206</td>\n",
              "      <td>0.0770</td>\n",
              "      <td>0.0193</td>\n",
              "      <td>-0.2379</td>\n",
              "      <td>0.0007</td>\n",
              "      <td>0.0187</td>\n",
              "      <td>0.0037</td>\n",
              "      <td>0.0520</td>\n",
              "    </tr>\n",
              "    <tr>\n",
              "      <th>1926-08</th>\n",
              "      <td>0.0259</td>\n",
              "      <td>0.2703</td>\n",
              "      <td>0.0650</td>\n",
              "      <td>0.0055</td>\n",
              "      <td>0.1001</td>\n",
              "      <td>-0.0358</td>\n",
              "      <td>-0.0251</td>\n",
              "      <td>0.0425</td>\n",
              "      <td>0.0550</td>\n",
              "      <td>0.0814</td>\n",
              "      <td>0.0472</td>\n",
              "      <td>0.0217</td>\n",
              "      <td>0.0206</td>\n",
              "      <td>0.0210</td>\n",
              "      <td>0.0423</td>\n",
              "      <td>0.0166</td>\n",
              "      <td>0.0055</td>\n",
              "      <td>0.0085</td>\n",
              "      <td>0.0369</td>\n",
              "      <td>-0.0169</td>\n",
              "      <td>0.0217</td>\n",
              "      <td>0.0202</td>\n",
              "      <td>0.0439</td>\n",
              "      <td>-0.0238</td>\n",
              "      <td>0.0488</td>\n",
              "      <td>0.0539</td>\n",
              "      <td>-0.0075</td>\n",
              "      <td>-0.0013</td>\n",
              "      <td>0.0446</td>\n",
              "      <td>0.0676</td>\n",
              "    </tr>\n",
              "    <tr>\n",
              "      <th>1926-09</th>\n",
              "      <td>0.0116</td>\n",
              "      <td>0.0402</td>\n",
              "      <td>0.0126</td>\n",
              "      <td>0.0658</td>\n",
              "      <td>-0.0099</td>\n",
              "      <td>0.0073</td>\n",
              "      <td>-0.0051</td>\n",
              "      <td>0.0069</td>\n",
              "      <td>0.0533</td>\n",
              "      <td>0.0231</td>\n",
              "      <td>-0.0050</td>\n",
              "      <td>0.0015</td>\n",
              "      <td>0.0036</td>\n",
              "      <td>-0.0056</td>\n",
              "      <td>0.0483</td>\n",
              "      <td>0.0273</td>\n",
              "      <td>0.0174</td>\n",
              "      <td>0.0030</td>\n",
              "      <td>-0.0369</td>\n",
              "      <td>0.0204</td>\n",
              "      <td>0.0241</td>\n",
              "      <td>0.0225</td>\n",
              "      <td>0.0019</td>\n",
              "      <td>-0.0554</td>\n",
              "      <td>0.0005</td>\n",
              "      <td>-0.0787</td>\n",
              "      <td>0.0025</td>\n",
              "      <td>-0.0056</td>\n",
              "      <td>-0.0123</td>\n",
              "      <td>-0.0386</td>\n",
              "    </tr>\n",
              "    <tr>\n",
              "      <th>1926-10</th>\n",
              "      <td>-0.0306</td>\n",
              "      <td>-0.0331</td>\n",
              "      <td>0.0106</td>\n",
              "      <td>-0.0476</td>\n",
              "      <td>0.0947</td>\n",
              "      <td>-0.0468</td>\n",
              "      <td>0.0012</td>\n",
              "      <td>-0.0057</td>\n",
              "      <td>-0.0476</td>\n",
              "      <td>0.0100</td>\n",
              "      <td>-0.0455</td>\n",
              "      <td>-0.0385</td>\n",
              "      <td>0.0111</td>\n",
              "      <td>-0.0573</td>\n",
              "      <td>-0.0793</td>\n",
              "      <td>-0.0556</td>\n",
              "      <td>-0.0320</td>\n",
              "      <td>0.0223</td>\n",
              "      <td>-0.0104</td>\n",
              "      <td>-0.0263</td>\n",
              "      <td>-0.0011</td>\n",
              "      <td>-0.0200</td>\n",
              "      <td>-0.0109</td>\n",
              "      <td>-0.0508</td>\n",
              "      <td>-0.0264</td>\n",
              "      <td>-0.1538</td>\n",
              "      <td>-0.0220</td>\n",
              "      <td>-0.0411</td>\n",
              "      <td>-0.0516</td>\n",
              "      <td>-0.0849</td>\n",
              "    </tr>\n",
              "    <tr>\n",
              "      <th>1926-11</th>\n",
              "      <td>0.0635</td>\n",
              "      <td>0.0729</td>\n",
              "      <td>0.0455</td>\n",
              "      <td>0.0166</td>\n",
              "      <td>-0.0580</td>\n",
              "      <td>-0.0054</td>\n",
              "      <td>0.0187</td>\n",
              "      <td>0.0542</td>\n",
              "      <td>0.0520</td>\n",
              "      <td>0.0311</td>\n",
              "      <td>0.0220</td>\n",
              "      <td>0.0386</td>\n",
              "      <td>0.0318</td>\n",
              "      <td>0.0508</td>\n",
              "      <td>-0.0066</td>\n",
              "      <td>0.0787</td>\n",
              "      <td>0.0846</td>\n",
              "      <td>-0.0048</td>\n",
              "      <td>0.0006</td>\n",
              "      <td>0.0371</td>\n",
              "      <td>0.0163</td>\n",
              "      <td>0.0377</td>\n",
              "      <td>0.0364</td>\n",
              "      <td>0.0384</td>\n",
              "      <td>0.0160</td>\n",
              "      <td>0.0467</td>\n",
              "      <td>0.0652</td>\n",
              "      <td>0.0433</td>\n",
              "      <td>0.0224</td>\n",
              "      <td>0.0400</td>\n",
              "    </tr>\n",
              "  </tbody>\n",
              "</table>\n",
              "</div>"
            ],
            "text/plain": [
              "          Food    Beer    Smoke   Games  ...   Rtail   Meals   Fin     Other\n",
              "1926-07  0.0056 -0.0519  0.0129  0.0293  ...  0.0007  0.0187  0.0037  0.0520\n",
              "1926-08  0.0259  0.2703  0.0650  0.0055  ... -0.0075 -0.0013  0.0446  0.0676\n",
              "1926-09  0.0116  0.0402  0.0126  0.0658  ...  0.0025 -0.0056 -0.0123 -0.0386\n",
              "1926-10 -0.0306 -0.0331  0.0106 -0.0476  ... -0.0220 -0.0411 -0.0516 -0.0849\n",
              "1926-11  0.0635  0.0729  0.0455  0.0166  ...  0.0652  0.0433  0.0224  0.0400\n",
              "\n",
              "[5 rows x 30 columns]"
            ]
          },
          "metadata": {
            "tags": []
          },
          "execution_count": 3
        }
      ]
    },
    {
      "cell_type": "code",
      "metadata": {
        "id": "wE-ZFknA_Ccp"
      },
      "source": [
        "returns.columns=returns.columns.str.strip() # to remove spaces in front of column names"
      ],
      "execution_count": null,
      "outputs": []
    },
    {
      "cell_type": "markdown",
      "metadata": {
        "id": "SS7xmuW2GDMP"
      },
      "source": [
        "#Function to calculate annual returns"
      ]
    },
    {
      "cell_type": "code",
      "metadata": {
        "id": "M6pxe45K_Cd0"
      },
      "source": [
        "def annual_ret(ret):\n",
        "  number_of_rows=ret.shape[0]\n",
        "  pro=(1+ret).prod()\n",
        "  ann_ret=(pro**(12/number_of_rows))-1\n",
        "  return ann_ret"
      ],
      "execution_count": null,
      "outputs": []
    },
    {
      "cell_type": "code",
      "metadata": {
        "id": "3JjorMn2_Cfn"
      },
      "source": [
        "er=annual_ret(returns['1996':'2000'])"
      ],
      "execution_count": null,
      "outputs": []
    },
    {
      "cell_type": "code",
      "metadata": {
        "id": "VOR8x1oX_Cgw"
      },
      "source": [
        "cov=returns['1996':'2000'].cov()"
      ],
      "execution_count": null,
      "outputs": []
    },
    {
      "cell_type": "markdown",
      "metadata": {
        "id": "2tLwskZdGKxP"
      },
      "source": [
        "#Functions to calculate portfolio returns and portfolio volatilities"
      ]
    },
    {
      "cell_type": "code",
      "metadata": {
        "id": "FvSzxlsZ_Cid"
      },
      "source": [
        "def portfolio_ret(weights, returns):\n",
        "  return weights.T @ returns\n",
        "\n",
        "def portfolio_vol(weights,covmat):\n",
        "  return (weights.T@covmat@weights)**0.5"
      ],
      "execution_count": null,
      "outputs": []
    },
    {
      "cell_type": "code",
      "metadata": {
        "id": "7cIugZ0j_CkN"
      },
      "source": [
        "# weights = minimize volatility for a certaain target retu\n",
        "#quadratic optimizer"
      ],
      "execution_count": null,
      "outputs": []
    },
    {
      "cell_type": "markdown",
      "metadata": {
        "id": "dbcZoAiRGeV0"
      },
      "source": [
        "#Function to give weights to give minimum volatility for a given return using optimizer"
      ]
    },
    {
      "cell_type": "code",
      "metadata": {
        "id": "4TgFjIUG_CnL"
      },
      "source": [
        "from scipy.optimize import minimize\n",
        "def minimize_vol(target_return,er,cov):\n",
        "  n=er.shape[0]\n",
        "  init_guess=np.repeat(1/n,n)\n",
        "  bounds=((0.0,1.0),)*n\n",
        "  return_is_target={\n",
        "      'type':'eq',\n",
        "      'args':(er,),\n",
        "      'fun': lambda weights,er:target_return-portfolio_ret(weights,er) # constraint  is met when this thing is equal to zero\n",
        "  }\n",
        "  weights_sum_to_1={\n",
        "      'type':'eq',\n",
        "      'fun': lambda weights: np.sum(weights)-1\n",
        "  }\n",
        "\n",
        "  # return is target and weights_sum_to_1 are targets\n",
        "\n",
        "  good_weights=minimize(portfolio_vol,init_guess,\n",
        "                   args=(cov,),method=\"SLSQP\",\n",
        "                   options={'disp':False},\n",
        "                   constraints=(return_is_target,weights_sum_to_1),\n",
        "                   bounds=bounds)\n",
        "\n",
        "\n",
        "\n",
        "  return good_weights.x\n",
        "\n",
        "\n",
        "\n"
      ],
      "execution_count": null,
      "outputs": []
    },
    {
      "cell_type": "markdown",
      "metadata": {
        "id": "IOMjoYMVGsmx"
      },
      "source": [
        "#Plotting efficient frontier for 4 Asset Class"
      ]
    },
    {
      "cell_type": "code",
      "metadata": {
        "id": "4BviZv78MPQ7"
      },
      "source": [
        "l=['Smoke','Fin','Games','Coal'] #1996, 2000"
      ],
      "execution_count": null,
      "outputs": []
    },
    {
      "cell_type": "code",
      "metadata": {
        "colab": {
          "base_uri": "https://localhost:8080/"
        },
        "id": "tvorAAZrOdAv",
        "outputId": "2ea3ea65-e22b-4441-ff8d-3cc17748d9cf"
      },
      "source": [
        "er[l]"
      ],
      "execution_count": null,
      "outputs": [
        {
          "output_type": "execute_result",
          "data": {
            "text/plain": [
              "Smoke    0.107830\n",
              "Fin      0.223371\n",
              "Games    0.068212\n",
              "Coal     0.414689\n",
              "dtype: float64"
            ]
          },
          "metadata": {
            "tags": []
          },
          "execution_count": 12
        }
      ]
    },
    {
      "cell_type": "code",
      "metadata": {
        "colab": {
          "base_uri": "https://localhost:8080/",
          "height": 166
        },
        "id": "fExUAiTXOeFr",
        "outputId": "15a0eb9b-92b4-4b20-b369-99489f3cdef0"
      },
      "source": [
        "cov.loc[l,l]"
      ],
      "execution_count": null,
      "outputs": [
        {
          "output_type": "execute_result",
          "data": {
            "text/html": [
              "<div>\n",
              "<style scoped>\n",
              "    .dataframe tbody tr th:only-of-type {\n",
              "        vertical-align: middle;\n",
              "    }\n",
              "\n",
              "    .dataframe tbody tr th {\n",
              "        vertical-align: top;\n",
              "    }\n",
              "\n",
              "    .dataframe thead th {\n",
              "        text-align: right;\n",
              "    }\n",
              "</style>\n",
              "<table border=\"1\" class=\"dataframe\">\n",
              "  <thead>\n",
              "    <tr style=\"text-align: right;\">\n",
              "      <th></th>\n",
              "      <th>Smoke</th>\n",
              "      <th>Fin</th>\n",
              "      <th>Games</th>\n",
              "      <th>Coal</th>\n",
              "    </tr>\n",
              "  </thead>\n",
              "  <tbody>\n",
              "    <tr>\n",
              "      <th>Smoke</th>\n",
              "      <td>0.008349</td>\n",
              "      <td>0.001312</td>\n",
              "      <td>0.000379</td>\n",
              "      <td>-0.000733</td>\n",
              "    </tr>\n",
              "    <tr>\n",
              "      <th>Fin</th>\n",
              "      <td>0.001312</td>\n",
              "      <td>0.003982</td>\n",
              "      <td>0.002416</td>\n",
              "      <td>0.002946</td>\n",
              "    </tr>\n",
              "    <tr>\n",
              "      <th>Games</th>\n",
              "      <td>0.000379</td>\n",
              "      <td>0.002416</td>\n",
              "      <td>0.003773</td>\n",
              "      <td>0.001888</td>\n",
              "    </tr>\n",
              "    <tr>\n",
              "      <th>Coal</th>\n",
              "      <td>-0.000733</td>\n",
              "      <td>0.002946</td>\n",
              "      <td>0.001888</td>\n",
              "      <td>0.018641</td>\n",
              "    </tr>\n",
              "  </tbody>\n",
              "</table>\n",
              "</div>"
            ],
            "text/plain": [
              "          Smoke       Fin     Games      Coal\n",
              "Smoke  0.008349  0.001312  0.000379 -0.000733\n",
              "Fin    0.001312  0.003982  0.002416  0.002946\n",
              "Games  0.000379  0.002416  0.003773  0.001888\n",
              "Coal  -0.000733  0.002946  0.001888  0.018641"
            ]
          },
          "metadata": {
            "tags": []
          },
          "execution_count": 13
        }
      ]
    },
    {
      "cell_type": "code",
      "metadata": {
        "colab": {
          "base_uri": "https://localhost:8080/"
        },
        "id": "Fw-mblj_OhKA",
        "outputId": "ff9f4daa-ce94-45cd-a18a-ff5f8e0c8219"
      },
      "source": [
        "target_return=np.linspace(er[l].min(),er[l].max(),100)\n",
        "target_return"
      ],
      "execution_count": null,
      "outputs": [
        {
          "output_type": "execute_result",
          "data": {
            "text/plain": [
              "array([0.06821155, 0.07171132, 0.07521109, 0.07871086, 0.08221064,\n",
              "       0.08571041, 0.08921018, 0.09270995, 0.09620972, 0.0997095 ,\n",
              "       0.10320927, 0.10670904, 0.11020881, 0.11370859, 0.11720836,\n",
              "       0.12070813, 0.1242079 , 0.12770767, 0.13120745, 0.13470722,\n",
              "       0.13820699, 0.14170676, 0.14520653, 0.14870631, 0.15220608,\n",
              "       0.15570585, 0.15920562, 0.16270539, 0.16620517, 0.16970494,\n",
              "       0.17320471, 0.17670448, 0.18020425, 0.18370403, 0.1872038 ,\n",
              "       0.19070357, 0.19420334, 0.19770311, 0.20120289, 0.20470266,\n",
              "       0.20820243, 0.2117022 , 0.21520198, 0.21870175, 0.22220152,\n",
              "       0.22570129, 0.22920106, 0.23270084, 0.23620061, 0.23970038,\n",
              "       0.24320015, 0.24669992, 0.2501997 , 0.25369947, 0.25719924,\n",
              "       0.26069901, 0.26419878, 0.26769856, 0.27119833, 0.2746981 ,\n",
              "       0.27819787, 0.28169764, 0.28519742, 0.28869719, 0.29219696,\n",
              "       0.29569673, 0.2991965 , 0.30269628, 0.30619605, 0.30969582,\n",
              "       0.31319559, 0.31669536, 0.32019514, 0.32369491, 0.32719468,\n",
              "       0.33069445, 0.33419423, 0.337694  , 0.34119377, 0.34469354,\n",
              "       0.34819331, 0.35169309, 0.35519286, 0.35869263, 0.3621924 ,\n",
              "       0.36569217, 0.36919195, 0.37269172, 0.37619149, 0.37969126,\n",
              "       0.38319103, 0.38669081, 0.39019058, 0.39369035, 0.39719012,\n",
              "       0.40068989, 0.40418967, 0.40768944, 0.41118921, 0.41468898])"
            ]
          },
          "metadata": {
            "tags": []
          },
          "execution_count": 14
        }
      ]
    },
    {
      "cell_type": "code",
      "metadata": {
        "id": "68FW3lyIOsLt"
      },
      "source": [
        "final_return=pd.Series(target_return)"
      ],
      "execution_count": null,
      "outputs": []
    },
    {
      "cell_type": "code",
      "metadata": {
        "colab": {
          "base_uri": "https://localhost:8080/",
          "height": 402
        },
        "id": "-Jxwb6rxPG3z",
        "outputId": "d31bcb19-14a3-4790-bddc-fa7a1ca0c069"
      },
      "source": [
        "final_report=pd.DataFrame({'Returns':target_return})\n",
        "final_report"
      ],
      "execution_count": null,
      "outputs": [
        {
          "output_type": "execute_result",
          "data": {
            "text/html": [
              "<div>\n",
              "<style scoped>\n",
              "    .dataframe tbody tr th:only-of-type {\n",
              "        vertical-align: middle;\n",
              "    }\n",
              "\n",
              "    .dataframe tbody tr th {\n",
              "        vertical-align: top;\n",
              "    }\n",
              "\n",
              "    .dataframe thead th {\n",
              "        text-align: right;\n",
              "    }\n",
              "</style>\n",
              "<table border=\"1\" class=\"dataframe\">\n",
              "  <thead>\n",
              "    <tr style=\"text-align: right;\">\n",
              "      <th></th>\n",
              "      <th>Returns</th>\n",
              "    </tr>\n",
              "  </thead>\n",
              "  <tbody>\n",
              "    <tr>\n",
              "      <th>0</th>\n",
              "      <td>0.068212</td>\n",
              "    </tr>\n",
              "    <tr>\n",
              "      <th>1</th>\n",
              "      <td>0.071711</td>\n",
              "    </tr>\n",
              "    <tr>\n",
              "      <th>2</th>\n",
              "      <td>0.075211</td>\n",
              "    </tr>\n",
              "    <tr>\n",
              "      <th>3</th>\n",
              "      <td>0.078711</td>\n",
              "    </tr>\n",
              "    <tr>\n",
              "      <th>4</th>\n",
              "      <td>0.082211</td>\n",
              "    </tr>\n",
              "    <tr>\n",
              "      <th>...</th>\n",
              "      <td>...</td>\n",
              "    </tr>\n",
              "    <tr>\n",
              "      <th>95</th>\n",
              "      <td>0.400690</td>\n",
              "    </tr>\n",
              "    <tr>\n",
              "      <th>96</th>\n",
              "      <td>0.404190</td>\n",
              "    </tr>\n",
              "    <tr>\n",
              "      <th>97</th>\n",
              "      <td>0.407689</td>\n",
              "    </tr>\n",
              "    <tr>\n",
              "      <th>98</th>\n",
              "      <td>0.411189</td>\n",
              "    </tr>\n",
              "    <tr>\n",
              "      <th>99</th>\n",
              "      <td>0.414689</td>\n",
              "    </tr>\n",
              "  </tbody>\n",
              "</table>\n",
              "<p>100 rows × 1 columns</p>\n",
              "</div>"
            ],
            "text/plain": [
              "     Returns\n",
              "0   0.068212\n",
              "1   0.071711\n",
              "2   0.075211\n",
              "3   0.078711\n",
              "4   0.082211\n",
              "..       ...\n",
              "95  0.400690\n",
              "96  0.404190\n",
              "97  0.407689\n",
              "98  0.411189\n",
              "99  0.414689\n",
              "\n",
              "[100 rows x 1 columns]"
            ]
          },
          "metadata": {
            "tags": []
          },
          "execution_count": 16
        }
      ]
    },
    {
      "cell_type": "code",
      "metadata": {
        "colab": {
          "base_uri": "https://localhost:8080/"
        },
        "id": "Gz1TTEnQRfJo",
        "outputId": "fcea7a05-655a-4e5c-872d-3258526ab908"
      },
      "source": [
        "target_return"
      ],
      "execution_count": null,
      "outputs": [
        {
          "output_type": "execute_result",
          "data": {
            "text/plain": [
              "array([0.06821155, 0.07171132, 0.07521109, 0.07871086, 0.08221064,\n",
              "       0.08571041, 0.08921018, 0.09270995, 0.09620972, 0.0997095 ,\n",
              "       0.10320927, 0.10670904, 0.11020881, 0.11370859, 0.11720836,\n",
              "       0.12070813, 0.1242079 , 0.12770767, 0.13120745, 0.13470722,\n",
              "       0.13820699, 0.14170676, 0.14520653, 0.14870631, 0.15220608,\n",
              "       0.15570585, 0.15920562, 0.16270539, 0.16620517, 0.16970494,\n",
              "       0.17320471, 0.17670448, 0.18020425, 0.18370403, 0.1872038 ,\n",
              "       0.19070357, 0.19420334, 0.19770311, 0.20120289, 0.20470266,\n",
              "       0.20820243, 0.2117022 , 0.21520198, 0.21870175, 0.22220152,\n",
              "       0.22570129, 0.22920106, 0.23270084, 0.23620061, 0.23970038,\n",
              "       0.24320015, 0.24669992, 0.2501997 , 0.25369947, 0.25719924,\n",
              "       0.26069901, 0.26419878, 0.26769856, 0.27119833, 0.2746981 ,\n",
              "       0.27819787, 0.28169764, 0.28519742, 0.28869719, 0.29219696,\n",
              "       0.29569673, 0.2991965 , 0.30269628, 0.30619605, 0.30969582,\n",
              "       0.31319559, 0.31669536, 0.32019514, 0.32369491, 0.32719468,\n",
              "       0.33069445, 0.33419423, 0.337694  , 0.34119377, 0.34469354,\n",
              "       0.34819331, 0.35169309, 0.35519286, 0.35869263, 0.3621924 ,\n",
              "       0.36569217, 0.36919195, 0.37269172, 0.37619149, 0.37969126,\n",
              "       0.38319103, 0.38669081, 0.39019058, 0.39369035, 0.39719012,\n",
              "       0.40068989, 0.40418967, 0.40768944, 0.41118921, 0.41468898])"
            ]
          },
          "metadata": {
            "tags": []
          },
          "execution_count": 17
        }
      ]
    },
    {
      "cell_type": "code",
      "metadata": {
        "id": "Vn8jCKt7PT_w"
      },
      "source": [
        "weightss=[minimize_vol(x,er[l],cov.loc[l,l]) for x in target_return]\n",
        "volatilities=[portfolio_vol(i,cov.loc[l,l]) for i in weightss]\n",
        "final_report['volatilities']=volatilities"
      ],
      "execution_count": null,
      "outputs": []
    },
    {
      "cell_type": "code",
      "metadata": {
        "colab": {
          "base_uri": "https://localhost:8080/",
          "height": 402
        },
        "id": "gf1HWPESUedQ",
        "outputId": "f33f5452-f994-4e61-959d-233ad68563b4"
      },
      "source": [
        "final_report"
      ],
      "execution_count": null,
      "outputs": [
        {
          "output_type": "execute_result",
          "data": {
            "text/html": [
              "<div>\n",
              "<style scoped>\n",
              "    .dataframe tbody tr th:only-of-type {\n",
              "        vertical-align: middle;\n",
              "    }\n",
              "\n",
              "    .dataframe tbody tr th {\n",
              "        vertical-align: top;\n",
              "    }\n",
              "\n",
              "    .dataframe thead th {\n",
              "        text-align: right;\n",
              "    }\n",
              "</style>\n",
              "<table border=\"1\" class=\"dataframe\">\n",
              "  <thead>\n",
              "    <tr style=\"text-align: right;\">\n",
              "      <th></th>\n",
              "      <th>Returns</th>\n",
              "      <th>volatilities</th>\n",
              "    </tr>\n",
              "  </thead>\n",
              "  <tbody>\n",
              "    <tr>\n",
              "      <th>0</th>\n",
              "      <td>0.068212</td>\n",
              "      <td>0.061423</td>\n",
              "    </tr>\n",
              "    <tr>\n",
              "      <th>1</th>\n",
              "      <td>0.071711</td>\n",
              "      <td>0.057113</td>\n",
              "    </tr>\n",
              "    <tr>\n",
              "      <th>2</th>\n",
              "      <td>0.075211</td>\n",
              "      <td>0.054115</td>\n",
              "    </tr>\n",
              "    <tr>\n",
              "      <th>3</th>\n",
              "      <td>0.078711</td>\n",
              "      <td>0.052652</td>\n",
              "    </tr>\n",
              "    <tr>\n",
              "      <th>4</th>\n",
              "      <td>0.082211</td>\n",
              "      <td>0.052312</td>\n",
              "    </tr>\n",
              "    <tr>\n",
              "      <th>...</th>\n",
              "      <td>...</td>\n",
              "      <td>...</td>\n",
              "    </tr>\n",
              "    <tr>\n",
              "      <th>95</th>\n",
              "      <td>0.400690</td>\n",
              "      <td>0.128194</td>\n",
              "    </tr>\n",
              "    <tr>\n",
              "      <th>96</th>\n",
              "      <td>0.404190</td>\n",
              "      <td>0.130264</td>\n",
              "    </tr>\n",
              "    <tr>\n",
              "      <th>97</th>\n",
              "      <td>0.407689</td>\n",
              "      <td>0.132344</td>\n",
              "    </tr>\n",
              "    <tr>\n",
              "      <th>98</th>\n",
              "      <td>0.411189</td>\n",
              "      <td>0.134434</td>\n",
              "    </tr>\n",
              "    <tr>\n",
              "      <th>99</th>\n",
              "      <td>0.414689</td>\n",
              "      <td>0.136532</td>\n",
              "    </tr>\n",
              "  </tbody>\n",
              "</table>\n",
              "<p>100 rows × 2 columns</p>\n",
              "</div>"
            ],
            "text/plain": [
              "     Returns  volatilities\n",
              "0   0.068212      0.061423\n",
              "1   0.071711      0.057113\n",
              "2   0.075211      0.054115\n",
              "3   0.078711      0.052652\n",
              "4   0.082211      0.052312\n",
              "..       ...           ...\n",
              "95  0.400690      0.128194\n",
              "96  0.404190      0.130264\n",
              "97  0.407689      0.132344\n",
              "98  0.411189      0.134434\n",
              "99  0.414689      0.136532\n",
              "\n",
              "[100 rows x 2 columns]"
            ]
          },
          "metadata": {
            "tags": []
          },
          "execution_count": 19
        }
      ]
    },
    {
      "cell_type": "code",
      "metadata": {
        "colab": {
          "base_uri": "https://localhost:8080/",
          "height": 282
        },
        "id": "N1NEjVlDUqas",
        "outputId": "3c8a0330-9f97-434f-f139-3e190685ce54"
      },
      "source": [
        "plt.plot(final_report['volatilities'],final_report['Returns'])"
      ],
      "execution_count": null,
      "outputs": [
        {
          "output_type": "execute_result",
          "data": {
            "text/plain": [
              "[<matplotlib.lines.Line2D at 0x7fdf2c31edd0>]"
            ]
          },
          "metadata": {
            "tags": []
          },
          "execution_count": 20
        },
        {
          "output_type": "display_data",
          "data": {
            "image/png": "[encoded data removed]",
            "text/plain": [
              "<Figure size 432x288 with 1 Axes>"
            ]
          },
          "metadata": {
            "tags": [],
            "needs_background": "light"
          }
        }
      ]
    },
    {
      "cell_type": "code",
      "metadata": {
        "colab": {
          "base_uri": "https://localhost:8080/"
        },
        "id": "l0Hon-EvU2Z5",
        "outputId": "8baa48fd-e30d-40de-ec4a-107c1e88e0e1"
      },
      "source": [
        "final_report['volatilities'].min()"
      ],
      "execution_count": null,
      "outputs": [
        {
          "output_type": "execute_result",
          "data": {
            "text/plain": [
              "0.050103862808807714"
            ]
          },
          "metadata": {
            "tags": []
          },
          "execution_count": 21
        }
      ]
    },
    {
      "cell_type": "markdown",
      "metadata": {
        "id": "ZJze1tk0IY_v"
      },
      "source": [
        "#Weights for minimum volatility"
      ]
    },
    {
      "cell_type": "code",
      "metadata": {
        "colab": {
          "base_uri": "https://localhost:8080/"
        },
        "id": "ZYvjH_mqVw88",
        "outputId": "1f53deb7-902e-40a6-9896-477156253fa6"
      },
      "source": [
        "final_report.sort_values(by='volatilities') # point for minimum volatitlity\n"
      ],
      "execution_count": null,
      "outputs": [
        {
          "output_type": "execute_result",
          "data": {
            "text/html": [
              "<div>\n",
              "<style scoped>\n",
              "    .dataframe tbody tr th:only-of-type {\n",
              "        vertical-align: middle;\n",
              "    }\n",
              "\n",
              "    .dataframe tbody tr th {\n",
              "        vertical-align: top;\n",
              "    }\n",
              "\n",
              "    .dataframe thead th {\n",
              "        text-align: right;\n",
              "    }\n",
              "</style>\n",
              "<table border=\"1\" class=\"dataframe\">\n",
              "  <thead>\n",
              "    <tr style=\"text-align: right;\">\n",
              "      <th></th>\n",
              "      <th>Returns</th>\n",
              "      <th>volatilities</th>\n",
              "    </tr>\n",
              "  </thead>\n",
              "  <tbody>\n",
              "    <tr>\n",
              "      <th>19</th>\n",
              "      <td>0.134707</td>\n",
              "      <td>0.050104</td>\n",
              "    </tr>\n",
              "    <tr>\n",
              "      <th>18</th>\n",
              "      <td>0.131207</td>\n",
              "      <td>0.050106</td>\n",
              "    </tr>\n",
              "    <tr>\n",
              "      <th>20</th>\n",
              "      <td>0.138207</td>\n",
              "      <td>0.050130</td>\n",
              "    </tr>\n",
              "    <tr>\n",
              "      <th>17</th>\n",
              "      <td>0.127708</td>\n",
              "      <td>0.050130</td>\n",
              "    </tr>\n",
              "    <tr>\n",
              "      <th>21</th>\n",
              "      <td>0.141707</td>\n",
              "      <td>0.050164</td>\n",
              "    </tr>\n",
              "    <tr>\n",
              "      <th>...</th>\n",
              "      <td>...</td>\n",
              "      <td>...</td>\n",
              "    </tr>\n",
              "    <tr>\n",
              "      <th>95</th>\n",
              "      <td>0.400690</td>\n",
              "      <td>0.128194</td>\n",
              "    </tr>\n",
              "    <tr>\n",
              "      <th>96</th>\n",
              "      <td>0.404190</td>\n",
              "      <td>0.130264</td>\n",
              "    </tr>\n",
              "    <tr>\n",
              "      <th>97</th>\n",
              "      <td>0.407689</td>\n",
              "      <td>0.132344</td>\n",
              "    </tr>\n",
              "    <tr>\n",
              "      <th>98</th>\n",
              "      <td>0.411189</td>\n",
              "      <td>0.134434</td>\n",
              "    </tr>\n",
              "    <tr>\n",
              "      <th>99</th>\n",
              "      <td>0.414689</td>\n",
              "      <td>0.136532</td>\n",
              "    </tr>\n",
              "  </tbody>\n",
              "</table>\n",
              "<p>100 rows × 2 columns</p>\n",
              "</div>"
            ],
            "text/plain": [
              "     Returns  volatilities\n",
              "19  0.134707      0.050104\n",
              "18  0.131207      0.050106\n",
              "20  0.138207      0.050130\n",
              "17  0.127708      0.050130\n",
              "21  0.141707      0.050164\n",
              "..       ...           ...\n",
              "95  0.400690      0.128194\n",
              "96  0.404190      0.130264\n",
              "97  0.407689      0.132344\n",
              "98  0.411189      0.134434\n",
              "99  0.414689      0.136532\n",
              "\n",
              "[100 rows x 2 columns]"
            ]
          },
          "metadata": {
            "tags": []
          },
          "execution_count": 22
        }
      ]
    },
    {
      "cell_type": "code",
      "metadata": {
        "colab": {
          "base_uri": "https://localhost:8080/"
        },
        "id": "Ywes37kkV7iq",
        "outputId": "b470f408-edb6-4d50-c1a8-6536f49fe249"
      },
      "source": [
        "weights_for_min_vol=minimize_vol(0.134707,er[l],cov.loc[l,l])\n",
        "weights_for_min_vol"
      ],
      "execution_count": null,
      "outputs": [
        {
          "output_type": "execute_result",
          "data": {
            "text/plain": [
              "array([0.2501136 , 0.22137995, 0.4643264 , 0.06418005])"
            ]
          },
          "metadata": {
            "tags": []
          },
          "execution_count": 23
        }
      ]
    },
    {
      "cell_type": "code",
      "metadata": {
        "id": "gGRG5EFpIWOD"
      },
      "source": [
        "risk_free_rate=0.1"
      ],
      "execution_count": null,
      "outputs": []
    },
    {
      "cell_type": "code",
      "metadata": {
        "colab": {
          "base_uri": "https://localhost:8080/"
        },
        "id": "zoSXn_twjvQ9",
        "outputId": "a5516057-af00-4a5b-9269-e588ee4d2fac"
      },
      "source": [
        "final_report"
      ],
      "execution_count": null,
      "outputs": [
        {
          "output_type": "execute_result",
          "data": {
            "text/html": [
              "<div>\n",
              "<style scoped>\n",
              "    .dataframe tbody tr th:only-of-type {\n",
              "        vertical-align: middle;\n",
              "    }\n",
              "\n",
              "    .dataframe tbody tr th {\n",
              "        vertical-align: top;\n",
              "    }\n",
              "\n",
              "    .dataframe thead th {\n",
              "        text-align: right;\n",
              "    }\n",
              "</style>\n",
              "<table border=\"1\" class=\"dataframe\">\n",
              "  <thead>\n",
              "    <tr style=\"text-align: right;\">\n",
              "      <th></th>\n",
              "      <th>Returns</th>\n",
              "      <th>volatilities</th>\n",
              "    </tr>\n",
              "  </thead>\n",
              "  <tbody>\n",
              "    <tr>\n",
              "      <th>0</th>\n",
              "      <td>0.068212</td>\n",
              "      <td>0.061423</td>\n",
              "    </tr>\n",
              "    <tr>\n",
              "      <th>1</th>\n",
              "      <td>0.071711</td>\n",
              "      <td>0.057113</td>\n",
              "    </tr>\n",
              "    <tr>\n",
              "      <th>2</th>\n",
              "      <td>0.075211</td>\n",
              "      <td>0.054115</td>\n",
              "    </tr>\n",
              "    <tr>\n",
              "      <th>3</th>\n",
              "      <td>0.078711</td>\n",
              "      <td>0.052652</td>\n",
              "    </tr>\n",
              "    <tr>\n",
              "      <th>4</th>\n",
              "      <td>0.082211</td>\n",
              "      <td>0.052312</td>\n",
              "    </tr>\n",
              "    <tr>\n",
              "      <th>...</th>\n",
              "      <td>...</td>\n",
              "      <td>...</td>\n",
              "    </tr>\n",
              "    <tr>\n",
              "      <th>95</th>\n",
              "      <td>0.400690</td>\n",
              "      <td>0.128194</td>\n",
              "    </tr>\n",
              "    <tr>\n",
              "      <th>96</th>\n",
              "      <td>0.404190</td>\n",
              "      <td>0.130264</td>\n",
              "    </tr>\n",
              "    <tr>\n",
              "      <th>97</th>\n",
              "      <td>0.407689</td>\n",
              "      <td>0.132344</td>\n",
              "    </tr>\n",
              "    <tr>\n",
              "      <th>98</th>\n",
              "      <td>0.411189</td>\n",
              "      <td>0.134434</td>\n",
              "    </tr>\n",
              "    <tr>\n",
              "      <th>99</th>\n",
              "      <td>0.414689</td>\n",
              "      <td>0.136532</td>\n",
              "    </tr>\n",
              "  </tbody>\n",
              "</table>\n",
              "<p>100 rows × 2 columns</p>\n",
              "</div>"
            ],
            "text/plain": [
              "     Returns  volatilities\n",
              "0   0.068212      0.061423\n",
              "1   0.071711      0.057113\n",
              "2   0.075211      0.054115\n",
              "3   0.078711      0.052652\n",
              "4   0.082211      0.052312\n",
              "..       ...           ...\n",
              "95  0.400690      0.128194\n",
              "96  0.404190      0.130264\n",
              "97  0.407689      0.132344\n",
              "98  0.411189      0.134434\n",
              "99  0.414689      0.136532\n",
              "\n",
              "[100 rows x 2 columns]"
            ]
          },
          "metadata": {
            "tags": []
          },
          "execution_count": 25
        }
      ]
    },
    {
      "cell_type": "code",
      "metadata": {
        "id": "Qqr2Ge32jy7B"
      },
      "source": [
        "final_report['Sharpe_ratio']=(final_report['Returns']-risk_free_rate)/final_report['volatilities']"
      ],
      "execution_count": null,
      "outputs": []
    },
    {
      "cell_type": "code",
      "metadata": {
        "colab": {
          "base_uri": "https://localhost:8080/"
        },
        "id": "RUCTGB5TkHBr",
        "outputId": "9f6e7333-8feb-4262-c2bd-6d9788d9118a"
      },
      "source": [
        "final_report"
      ],
      "execution_count": null,
      "outputs": [
        {
          "output_type": "execute_result",
          "data": {
            "text/html": [
              "<div>\n",
              "<style scoped>\n",
              "    .dataframe tbody tr th:only-of-type {\n",
              "        vertical-align: middle;\n",
              "    }\n",
              "\n",
              "    .dataframe tbody tr th {\n",
              "        vertical-align: top;\n",
              "    }\n",
              "\n",
              "    .dataframe thead th {\n",
              "        text-align: right;\n",
              "    }\n",
              "</style>\n",
              "<table border=\"1\" class=\"dataframe\">\n",
              "  <thead>\n",
              "    <tr style=\"text-align: right;\">\n",
              "      <th></th>\n",
              "      <th>Returns</th>\n",
              "      <th>volatilities</th>\n",
              "      <th>Sharpe_ratio</th>\n",
              "    </tr>\n",
              "  </thead>\n",
              "  <tbody>\n",
              "    <tr>\n",
              "      <th>0</th>\n",
              "      <td>0.068212</td>\n",
              "      <td>0.061423</td>\n",
              "      <td>-0.517532</td>\n",
              "    </tr>\n",
              "    <tr>\n",
              "      <th>1</th>\n",
              "      <td>0.071711</td>\n",
              "      <td>0.057113</td>\n",
              "      <td>-0.495308</td>\n",
              "    </tr>\n",
              "    <tr>\n",
              "      <th>2</th>\n",
              "      <td>0.075211</td>\n",
              "      <td>0.054115</td>\n",
              "      <td>-0.458081</td>\n",
              "    </tr>\n",
              "    <tr>\n",
              "      <th>3</th>\n",
              "      <td>0.078711</td>\n",
              "      <td>0.052652</td>\n",
              "      <td>-0.404339</td>\n",
              "    </tr>\n",
              "    <tr>\n",
              "      <th>4</th>\n",
              "      <td>0.082211</td>\n",
              "      <td>0.052312</td>\n",
              "      <td>-0.340064</td>\n",
              "    </tr>\n",
              "    <tr>\n",
              "      <th>...</th>\n",
              "      <td>...</td>\n",
              "      <td>...</td>\n",
              "      <td>...</td>\n",
              "    </tr>\n",
              "    <tr>\n",
              "      <th>95</th>\n",
              "      <td>0.400690</td>\n",
              "      <td>0.128194</td>\n",
              "      <td>2.345581</td>\n",
              "    </tr>\n",
              "    <tr>\n",
              "      <th>96</th>\n",
              "      <td>0.404190</td>\n",
              "      <td>0.130264</td>\n",
              "      <td>2.335175</td>\n",
              "    </tr>\n",
              "    <tr>\n",
              "      <th>97</th>\n",
              "      <td>0.407689</td>\n",
              "      <td>0.132344</td>\n",
              "      <td>2.324920</td>\n",
              "    </tr>\n",
              "    <tr>\n",
              "      <th>98</th>\n",
              "      <td>0.411189</td>\n",
              "      <td>0.134434</td>\n",
              "      <td>2.314819</td>\n",
              "    </tr>\n",
              "    <tr>\n",
              "      <th>99</th>\n",
              "      <td>0.414689</td>\n",
              "      <td>0.136532</td>\n",
              "      <td>2.304874</td>\n",
              "    </tr>\n",
              "  </tbody>\n",
              "</table>\n",
              "<p>100 rows × 3 columns</p>\n",
              "</div>"
            ],
            "text/plain": [
              "     Returns  volatilities  Sharpe_ratio\n",
              "0   0.068212      0.061423     -0.517532\n",
              "1   0.071711      0.057113     -0.495308\n",
              "2   0.075211      0.054115     -0.458081\n",
              "3   0.078711      0.052652     -0.404339\n",
              "4   0.082211      0.052312     -0.340064\n",
              "..       ...           ...           ...\n",
              "95  0.400690      0.128194      2.345581\n",
              "96  0.404190      0.130264      2.335175\n",
              "97  0.407689      0.132344      2.324920\n",
              "98  0.411189      0.134434      2.314819\n",
              "99  0.414689      0.136532      2.304874\n",
              "\n",
              "[100 rows x 3 columns]"
            ]
          },
          "metadata": {
            "tags": []
          },
          "execution_count": 27
        }
      ]
    },
    {
      "cell_type": "code",
      "metadata": {
        "colab": {
          "base_uri": "https://localhost:8080/"
        },
        "id": "4vc7CQFqkNeB",
        "outputId": "a12140f2-c53e-43ad-d59c-f72c1e508be7"
      },
      "source": [
        "plt.plot(final_report['volatilities'],final_report['Returns'])"
      ],
      "execution_count": null,
      "outputs": [
        {
          "output_type": "execute_result",
          "data": {
            "text/plain": [
              "[<matplotlib.lines.Line2D at 0x7fdf2be08e90>]"
            ]
          },
          "metadata": {
            "tags": []
          },
          "execution_count": 28
        },
        {
          "output_type": "display_data",
          "data": {
            "image/png": "[encoded data removed]",
            "text/plain": [
              "<Figure size 432x288 with 1 Axes>"
            ]
          },
          "metadata": {
            "tags": [],
            "needs_background": "light"
          }
        }
      ]
    },
    {
      "cell_type": "code",
      "metadata": {
        "id": "frxyCA8QkSdX"
      },
      "source": [
        "temp_final_report=final_report.sort_values(by='Sharpe_ratio',ascending=False)"
      ],
      "execution_count": null,
      "outputs": []
    },
    {
      "cell_type": "code",
      "metadata": {
        "colab": {
          "base_uri": "https://localhost:8080/"
        },
        "id": "MxlZPB1tkeay",
        "outputId": "7792a43f-f57d-4244-e19a-a117ffbbd808"
      },
      "source": [
        "temp_final_report"
      ],
      "execution_count": null,
      "outputs": [
        {
          "output_type": "execute_result",
          "data": {
            "text/html": [
              "<div>\n",
              "<style scoped>\n",
              "    .dataframe tbody tr th:only-of-type {\n",
              "        vertical-align: middle;\n",
              "    }\n",
              "\n",
              "    .dataframe tbody tr th {\n",
              "        vertical-align: top;\n",
              "    }\n",
              "\n",
              "    .dataframe thead th {\n",
              "        text-align: right;\n",
              "    }\n",
              "</style>\n",
              "<table border=\"1\" class=\"dataframe\">\n",
              "  <thead>\n",
              "    <tr style=\"text-align: right;\">\n",
              "      <th></th>\n",
              "      <th>Returns</th>\n",
              "      <th>volatilities</th>\n",
              "      <th>Sharpe_ratio</th>\n",
              "    </tr>\n",
              "  </thead>\n",
              "  <tbody>\n",
              "    <tr>\n",
              "      <th>66</th>\n",
              "      <td>0.299197</td>\n",
              "      <td>0.076085</td>\n",
              "      <td>2.618075</td>\n",
              "    </tr>\n",
              "    <tr>\n",
              "      <th>65</th>\n",
              "      <td>0.295697</td>\n",
              "      <td>0.074765</td>\n",
              "      <td>2.617486</td>\n",
              "    </tr>\n",
              "    <tr>\n",
              "      <th>67</th>\n",
              "      <td>0.302696</td>\n",
              "      <td>0.077455</td>\n",
              "      <td>2.616961</td>\n",
              "    </tr>\n",
              "    <tr>\n",
              "      <th>64</th>\n",
              "      <td>0.292197</td>\n",
              "      <td>0.073498</td>\n",
              "      <td>2.615006</td>\n",
              "    </tr>\n",
              "    <tr>\n",
              "      <th>68</th>\n",
              "      <td>0.306196</td>\n",
              "      <td>0.078872</td>\n",
              "      <td>2.614319</td>\n",
              "    </tr>\n",
              "    <tr>\n",
              "      <th>...</th>\n",
              "      <td>...</td>\n",
              "      <td>...</td>\n",
              "      <td>...</td>\n",
              "    </tr>\n",
              "    <tr>\n",
              "      <th>4</th>\n",
              "      <td>0.082211</td>\n",
              "      <td>0.052312</td>\n",
              "      <td>-0.340064</td>\n",
              "    </tr>\n",
              "    <tr>\n",
              "      <th>3</th>\n",
              "      <td>0.078711</td>\n",
              "      <td>0.052652</td>\n",
              "      <td>-0.404339</td>\n",
              "    </tr>\n",
              "    <tr>\n",
              "      <th>2</th>\n",
              "      <td>0.075211</td>\n",
              "      <td>0.054115</td>\n",
              "      <td>-0.458081</td>\n",
              "    </tr>\n",
              "    <tr>\n",
              "      <th>1</th>\n",
              "      <td>0.071711</td>\n",
              "      <td>0.057113</td>\n",
              "      <td>-0.495308</td>\n",
              "    </tr>\n",
              "    <tr>\n",
              "      <th>0</th>\n",
              "      <td>0.068212</td>\n",
              "      <td>0.061423</td>\n",
              "      <td>-0.517532</td>\n",
              "    </tr>\n",
              "  </tbody>\n",
              "</table>\n",
              "<p>100 rows × 3 columns</p>\n",
              "</div>"
            ],
            "text/plain": [
              "     Returns  volatilities  Sharpe_ratio\n",
              "66  0.299197      0.076085      2.618075\n",
              "65  0.295697      0.074765      2.617486\n",
              "67  0.302696      0.077455      2.616961\n",
              "64  0.292197      0.073498      2.615006\n",
              "68  0.306196      0.078872      2.614319\n",
              "..       ...           ...           ...\n",
              "4   0.082211      0.052312     -0.340064\n",
              "3   0.078711      0.052652     -0.404339\n",
              "2   0.075211      0.054115     -0.458081\n",
              "1   0.071711      0.057113     -0.495308\n",
              "0   0.068212      0.061423     -0.517532\n",
              "\n",
              "[100 rows x 3 columns]"
            ]
          },
          "metadata": {
            "tags": []
          },
          "execution_count": 30
        }
      ]
    },
    {
      "cell_type": "code",
      "metadata": {
        "id": "SBuC4nAvlurE"
      },
      "source": [],
      "execution_count": null,
      "outputs": []
    },
    {
      "cell_type": "code",
      "metadata": {
        "colab": {
          "base_uri": "https://localhost:8080/"
        },
        "id": "6elcAdEEkp86",
        "outputId": "4fda6de0-3e87-4cd9-c01c-215e81071408"
      },
      "source": [
        "plt.plot(final_report['volatilities'],final_report['Returns'])\n",
        "x=[0,temp_final_report['volatilities'][66]]\n",
        "y=[risk_free_rate,temp_final_report['Returns'][66]]\n",
        "plt.plot(x,y,'.',c='r')\n",
        "plt.plot(x,y,c='r')"
      ],
      "execution_count": null,
      "outputs": [
        {
          "output_type": "execute_result",
          "data": {
            "text/plain": [
              "[<matplotlib.lines.Line2D at 0x7fdf2bd88950>]"
            ]
          },
          "metadata": {
            "tags": []
          },
          "execution_count": 31
        },
        {
          "output_type": "display_data",
          "data": {
            "image/png": "[encoded data removed]",
            "text/plain": [
              "<Figure size 432x288 with 1 Axes>"
            ]
          },
          "metadata": {
            "tags": [],
            "needs_background": "light"
          }
        }
      ]
    },
    {
      "cell_type": "markdown",
      "metadata": {
        "id": "OlbYynBFo3wW"
      },
      "source": [
        "#Weights for maximum sharpe ratio"
      ]
    },
    {
      "cell_type": "code",
      "metadata": {
        "colab": {
          "base_uri": "https://localhost:8080/"
        },
        "id": "Mi7s8cXVlbTc",
        "outputId": "ba65fc5a-ba34-4037-b69a-8be2347addea"
      },
      "source": [
        "minimize_vol(temp_final_report['Returns'][66],er[l],cov.loc[l,l])"
      ],
      "execution_count": null,
      "outputs": [
        {
          "output_type": "execute_result",
          "data": {
            "text/plain": [
              "array([0.00000000e+00, 6.03669024e-01, 1.75207071e-16, 3.96330976e-01])"
            ]
          },
          "metadata": {
            "tags": []
          },
          "execution_count": 32
        }
      ]
    },
    {
      "cell_type": "code",
      "metadata": {
        "colab": {
          "base_uri": "https://localhost:8080/"
        },
        "id": "wp_p1O0upGKZ",
        "outputId": "a64e5007-c008-4a1c-efb7-ab9106072884"
      },
      "source": [
        "l"
      ],
      "execution_count": null,
      "outputs": [
        {
          "output_type": "execute_result",
          "data": {
            "text/plain": [
              "['Smoke', 'Fin', 'Games', 'Coal']"
            ]
          },
          "metadata": {
            "tags": []
          },
          "execution_count": 33
        }
      ]
    },
    {
      "cell_type": "code",
      "metadata": {
        "colab": {
          "base_uri": "https://localhost:8080/"
        },
        "id": "E4XDAkosqHKK",
        "outputId": "32c65654-ec01-4e62-95ea-73158009b9cf"
      },
      "source": [
        "er['Food']"
      ],
      "execution_count": null,
      "outputs": [
        {
          "output_type": "execute_result",
          "data": {
            "text/plain": [
              "0.11679867294226098"
            ]
          },
          "metadata": {
            "tags": []
          },
          "execution_count": 34
        }
      ]
    },
    {
      "cell_type": "markdown",
      "metadata": {
        "id": "EzdjpfG3mRgb"
      },
      "source": [
        "#Equally weighted portfolio"
      ]
    },
    {
      "cell_type": "code",
      "metadata": {
        "colab": {
          "base_uri": "https://localhost:8080/"
        },
        "id": "xzSZvglSmKkD",
        "outputId": "871e78c1-be5d-4058-b5fc-ef70ddfa7228"
      },
      "source": [
        "er[l]"
      ],
      "execution_count": null,
      "outputs": [
        {
          "output_type": "execute_result",
          "data": {
            "text/plain": [
              "Smoke    0.107830\n",
              "Fin      0.223371\n",
              "Games    0.068212\n",
              "Coal     0.414689\n",
              "dtype: float64"
            ]
          },
          "metadata": {
            "tags": []
          },
          "execution_count": 35
        }
      ]
    },
    {
      "cell_type": "code",
      "metadata": {
        "colab": {
          "base_uri": "https://localhost:8080/"
        },
        "id": "XL82B2KHmU37",
        "outputId": "689c4297-9e9d-473b-c355-abfc98f8b460"
      },
      "source": [
        "er[l].size"
      ],
      "execution_count": null,
      "outputs": [
        {
          "output_type": "execute_result",
          "data": {
            "text/plain": [
              "4"
            ]
          },
          "metadata": {
            "tags": []
          },
          "execution_count": 36
        }
      ]
    },
    {
      "cell_type": "code",
      "metadata": {
        "id": "56CNmes5mZJ-"
      },
      "source": [
        "sz=er[l].size\n",
        "e_w=np.repeat(1/sz,sz)\n",
        "e_w_vol=portfolio_vol(e_w,cov.loc[l,l])\n",
        "e_w_ret=portfolio_ret(e_w,er[l])"
      ],
      "execution_count": null,
      "outputs": []
    },
    {
      "cell_type": "code",
      "metadata": {
        "colab": {
          "base_uri": "https://localhost:8080/"
        },
        "id": "trJmES4PnUwG",
        "outputId": "8b1f9174-085e-4719-eb11-89ad989f3060"
      },
      "source": [
        "plt.plot(final_report['volatilities'],final_report['Returns'])\n",
        "x=[0,temp_final_report['volatilities'][66]]\n",
        "y=[risk_free_rate,temp_final_report['Returns'][66]]\n",
        "plt.plot(x,y,'.',c='r')\n",
        "plt.plot(x,y,c='r')\n",
        "\n",
        "plt.scatter(e_w_vol,e_w_ret,c='y')"
      ],
      "execution_count": null,
      "outputs": [
        {
          "output_type": "execute_result",
          "data": {
            "text/plain": [
              "<matplotlib.collections.PathCollection at 0x7fdf2bd06b10>"
            ]
          },
          "metadata": {
            "tags": []
          },
          "execution_count": 38
        },
        {
          "output_type": "display_data",
          "data": {
            "image/png": "[encoded data removed]",
            "text/plain": [
              "<Figure size 432x288 with 1 Axes>"
            ]
          },
          "metadata": {
            "tags": [],
            "needs_background": "light"
          }
        }
      ]
    },
    {
      "cell_type": "code",
      "metadata": {
        "colab": {
          "base_uri": "https://localhost:8080/"
        },
        "id": "reTx2Mwonsrt",
        "outputId": "a3179dfc-4d77-4366-c9bd-6f671d56a327"
      },
      "source": [
        "e_w_ret"
      ],
      "execution_count": null,
      "outputs": [
        {
          "output_type": "execute_result",
          "data": {
            "text/plain": [
              "0.20352560133756786"
            ]
          },
          "metadata": {
            "tags": []
          },
          "execution_count": 39
        }
      ]
    },
    {
      "cell_type": "code",
      "metadata": {
        "colab": {
          "base_uri": "https://localhost:8080/"
        },
        "id": "DDc51au8n8kR",
        "outputId": "24a59ab1-2c6f-432c-99de-5a30cfdb33a1"
      },
      "source": [
        "e_w_vol"
      ],
      "execution_count": null,
      "outputs": [
        {
          "output_type": "execute_result",
          "data": {
            "text/plain": [
              "0.056547630183264266"
            ]
          },
          "metadata": {
            "tags": []
          },
          "execution_count": 40
        }
      ]
    },
    {
      "cell_type": "markdown",
      "metadata": {
        "id": "d7HED8NOokNF"
      },
      "source": [
        "#Global Minimum Varience Portfolio"
      ]
    },
    {
      "cell_type": "code",
      "metadata": {
        "id": "i2D8Ijtrn-qf"
      },
      "source": [
        "gmv_final_report=final_report.sort_values(by='volatilities')"
      ],
      "execution_count": null,
      "outputs": []
    },
    {
      "cell_type": "code",
      "metadata": {
        "colab": {
          "base_uri": "https://localhost:8080/"
        },
        "id": "KVI9g9zYoF2F",
        "outputId": "5079b1ca-b6de-40d2-90c0-0e8b8bef54d7"
      },
      "source": [
        "gmv_final_report\n"
      ],
      "execution_count": null,
      "outputs": [
        {
          "output_type": "execute_result",
          "data": {
            "text/html": [
              "<div>\n",
              "<style scoped>\n",
              "    .dataframe tbody tr th:only-of-type {\n",
              "        vertical-align: middle;\n",
              "    }\n",
              "\n",
              "    .dataframe tbody tr th {\n",
              "        vertical-align: top;\n",
              "    }\n",
              "\n",
              "    .dataframe thead th {\n",
              "        text-align: right;\n",
              "    }\n",
              "</style>\n",
              "<table border=\"1\" class=\"dataframe\">\n",
              "  <thead>\n",
              "    <tr style=\"text-align: right;\">\n",
              "      <th></th>\n",
              "      <th>Returns</th>\n",
              "      <th>volatilities</th>\n",
              "      <th>Sharpe_ratio</th>\n",
              "    </tr>\n",
              "  </thead>\n",
              "  <tbody>\n",
              "    <tr>\n",
              "      <th>19</th>\n",
              "      <td>0.134707</td>\n",
              "      <td>0.050104</td>\n",
              "      <td>0.692705</td>\n",
              "    </tr>\n",
              "    <tr>\n",
              "      <th>18</th>\n",
              "      <td>0.131207</td>\n",
              "      <td>0.050106</td>\n",
              "      <td>0.622823</td>\n",
              "    </tr>\n",
              "    <tr>\n",
              "      <th>20</th>\n",
              "      <td>0.138207</td>\n",
              "      <td>0.050130</td>\n",
              "      <td>0.762165</td>\n",
              "    </tr>\n",
              "    <tr>\n",
              "      <th>17</th>\n",
              "      <td>0.127708</td>\n",
              "      <td>0.050130</td>\n",
              "      <td>0.552714</td>\n",
              "    </tr>\n",
              "    <tr>\n",
              "      <th>21</th>\n",
              "      <td>0.141707</td>\n",
              "      <td>0.050164</td>\n",
              "      <td>0.831416</td>\n",
              "    </tr>\n",
              "    <tr>\n",
              "      <th>...</th>\n",
              "      <td>...</td>\n",
              "      <td>...</td>\n",
              "      <td>...</td>\n",
              "    </tr>\n",
              "    <tr>\n",
              "      <th>95</th>\n",
              "      <td>0.400690</td>\n",
              "      <td>0.128194</td>\n",
              "      <td>2.345581</td>\n",
              "    </tr>\n",
              "    <tr>\n",
              "      <th>96</th>\n",
              "      <td>0.404190</td>\n",
              "      <td>0.130264</td>\n",
              "      <td>2.335175</td>\n",
              "    </tr>\n",
              "    <tr>\n",
              "      <th>97</th>\n",
              "      <td>0.407689</td>\n",
              "      <td>0.132344</td>\n",
              "      <td>2.324920</td>\n",
              "    </tr>\n",
              "    <tr>\n",
              "      <th>98</th>\n",
              "      <td>0.411189</td>\n",
              "      <td>0.134434</td>\n",
              "      <td>2.314819</td>\n",
              "    </tr>\n",
              "    <tr>\n",
              "      <th>99</th>\n",
              "      <td>0.414689</td>\n",
              "      <td>0.136532</td>\n",
              "      <td>2.304874</td>\n",
              "    </tr>\n",
              "  </tbody>\n",
              "</table>\n",
              "<p>100 rows × 3 columns</p>\n",
              "</div>"
            ],
            "text/plain": [
              "     Returns  volatilities  Sharpe_ratio\n",
              "19  0.134707      0.050104      0.692705\n",
              "18  0.131207      0.050106      0.622823\n",
              "20  0.138207      0.050130      0.762165\n",
              "17  0.127708      0.050130      0.552714\n",
              "21  0.141707      0.050164      0.831416\n",
              "..       ...           ...           ...\n",
              "95  0.400690      0.128194      2.345581\n",
              "96  0.404190      0.130264      2.335175\n",
              "97  0.407689      0.132344      2.324920\n",
              "98  0.411189      0.134434      2.314819\n",
              "99  0.414689      0.136532      2.304874\n",
              "\n",
              "[100 rows x 3 columns]"
            ]
          },
          "metadata": {
            "tags": []
          },
          "execution_count": 42
        }
      ]
    },
    {
      "cell_type": "code",
      "metadata": {
        "colab": {
          "base_uri": "https://localhost:8080/"
        },
        "id": "ZYV6G0OopJKl",
        "outputId": "771523f7-fb77-4a97-82f5-62c8feb94ea2"
      },
      "source": [
        "plt.plot(final_report['volatilities'],final_report['Returns'])\n",
        "x=[0,temp_final_report['volatilities'][66]]\n",
        "y=[risk_free_rate,temp_final_report['Returns'][66]]\n",
        "plt.plot(x,y,'.',c='r')\n",
        "plt.plot(x,y,c='r')\n",
        "\n",
        "plt.scatter(e_w_vol,e_w_ret,c='y')\n",
        "plt.scatter(gmv_final_report['volatilities'][19],gmv_final_report['Returns'][19],c='g')"
      ],
      "execution_count": null,
      "outputs": [
        {
          "output_type": "execute_result",
          "data": {
            "text/plain": [
              "<matplotlib.collections.PathCollection at 0x7fdf2bc88ad0>"
            ]
          },
          "metadata": {
            "tags": []
          },
          "execution_count": 43
        },
        {
          "output_type": "display_data",
          "data": {
            "image/png": "[encoded data removed]",
            "text/plain": [
              "<Figure size 432x288 with 1 Axes>"
            ]
          },
          "metadata": {
            "tags": [],
            "needs_background": "light"
          }
        }
      ]
    },
    {
      "cell_type": "code",
      "metadata": {
        "id": "qYgVkI7Ppb6v"
      },
      "source": [
        "weights_for_gmv=minimize_vol(gmv_final_report['Returns'][19],er[l],cov.loc[l,l])"
      ],
      "execution_count": null,
      "outputs": []
    },
    {
      "cell_type": "code",
      "metadata": {
        "colab": {
          "base_uri": "https://localhost:8080/"
        },
        "id": "g3iEeSSlqZ5u",
        "outputId": "d1766d37-ca55-4511-8fd6-c0e6b6c2332a"
      },
      "source": [
        "weights_for_gmv"
      ],
      "execution_count": null,
      "outputs": [
        {
          "output_type": "execute_result",
          "data": {
            "text/plain": [
              "array([0.25011348, 0.22138086, 0.46432538, 0.06418029])"
            ]
          },
          "metadata": {
            "tags": []
          },
          "execution_count": 45
        }
      ]
    }
  ]
}